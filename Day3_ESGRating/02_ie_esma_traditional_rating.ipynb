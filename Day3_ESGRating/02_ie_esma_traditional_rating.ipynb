{
  "cells": [
    {
      "cell_type": "code",
      "execution_count": 1,
      "metadata": {
        "colab": {
          "base_uri": "https://localhost:8080/"
        },
        "id": "aBfM9uiiE29f",
        "outputId": "f47fd10c-d1f3-416d-e761-fa5f88cc821a"
      },
      "outputs": [
        {
          "output_type": "stream",
          "name": "stdout",
          "text": [
            "READIND DATA...\n"
          ]
        }
      ],
      "source": [
        "# -*- coding: cp1252 -*-\n",
        "import pandas\n",
        "import numpy as np\n",
        "import re\n",
        "import statsmodels.api as sm\n",
        "\n",
        "#################################################################################\n",
        "#       READING DATA\n",
        "#################################################################################\n",
        "print (\"READIND DATA...\")\n",
        "df = pandas.read_csv(\"https://raw.githubusercontent.com/manoelgadi/ESMA/refs/heads/main/Day3_ESGRating/02_ie_esma_traditional_rating.csv\", sep=';')\n",
        "\n"
      ]
    },
    {
      "cell_type": "code",
      "execution_count": 2,
      "metadata": {
        "colab": {
          "base_uri": "https://localhost:8080/"
        },
        "id": "nYlgHYcyE29i",
        "outputId": "19c7281f-d104-4075-8e4e-a5cb857c2307"
      },
      "outputs": [
        {
          "output_type": "stream",
          "name": "stdout",
          "text": [
            "CALCULATING RATIOS...\n",
            "r1_act_InvTurn:\n",
            "0       5.737033e+00\n",
            "1       4.232438e+00\n",
            "2       1.926461e+00\n",
            "3       2.785040e+00\n",
            "4       8.312493e+01\n",
            "            ...     \n",
            "3960    4.611683e+08\n",
            "3961    2.121669e+09\n",
            "3962    2.566968e+09\n",
            "3963    5.566894e+06\n",
            "3964    8.150356e+06\n",
            "Name: r1_act_InvTurn, Length: 3965, dtype: float64\n",
            "r2_act_InvTurnDays:\n",
            "0       6.362173e+01\n",
            "1       8.623871e+01\n",
            "2       1.894666e+02\n",
            "3       1.310573e+02\n",
            "4       4.390981e+00\n",
            "            ...     \n",
            "3960    7.914681e-07\n",
            "3961    1.720343e-07\n",
            "3962    1.421911e-07\n",
            "3963    6.556619e-05\n",
            "3964    4.478332e-05\n",
            "Name: r2_act_InvTurnDays, Length: 3965, dtype: float64\n"
          ]
        }
      ],
      "source": [
        "#################################################################################\n",
        "#       CALCULATING RATIOS\n",
        "#################################################################################\n",
        "print (\"CALCULATING RATIOS...\")\n",
        "\n",
        "#################################################################################\n",
        "# Activity Ratios:\n",
        "#################################################################################\n",
        "# (1) Inventory turnover =  Sales / Turnover\n",
        "# (1) Rotación de inventario  =  Importe neto de la cifra de Negocio / Existencias (ejemplo: 5x)\n",
        "df['r1_act_InvTurn'] = df['40100']/df['12200']\n",
        "print ('r1_act_InvTurn:')\n",
        "print (df['r1_act_InvTurn'])\n",
        "\n",
        "#(2) Inventory turnover in days = 365 * Turnover / Sales  [in days]\n",
        "#(2) Rotación de inventario en días =  365 * Existencias / Importe neto de la cifra de Negocio [en días]\n",
        "df['r2_act_InvTurnDays'] = 365*df['12200']/df['40100']\n",
        "print ('r2_act_InvTurnDays:')\n",
        "print (df['r2_act_InvTurnDays'])\n"
      ]
    },
    {
      "cell_type": "code",
      "execution_count": 3,
      "metadata": {
        "colab": {
          "base_uri": "https://localhost:8080/"
        },
        "id": "tp8NePuIE29j",
        "outputId": "dcd0a138-9a3b-4865-9a7e-52cb2e084235"
      },
      "outputs": [
        {
          "output_type": "stream",
          "name": "stdout",
          "text": [
            "r3_liq_QuickRatio:\n",
            "0       2.529852\n",
            "1       4.079161\n",
            "2       1.016065\n",
            "3       1.452503\n",
            "4       4.123801\n",
            "          ...   \n",
            "3960    1.209129\n",
            "3961    0.966856\n",
            "3962    1.090675\n",
            "3963    0.065249\n",
            "3964    0.922170\n",
            "Name: r3_liq_QuickRatio, Length: 3965, dtype: float64\n"
          ]
        }
      ],
      "source": [
        "#################################################################################\n",
        "# Liquidity Ratios:\n",
        "#################################################################################\n",
        "#(3) Quick ratio =  (Current assets - Inventories) / Current liabilities\n",
        "#(3) Quick ratio =  (Activos Corrientes - Existencia) / Pasivos Corrientes\n",
        "df['r3_liq_QuickRatio'] = (df['12000']-df['12200'])/df['32000']\n",
        "print ('r3_liq_QuickRatio:')\n",
        "print (df['r3_liq_QuickRatio'])\n",
        "\n"
      ]
    },
    {
      "cell_type": "code",
      "execution_count": 4,
      "metadata": {
        "colab": {
          "base_uri": "https://localhost:8080/"
        },
        "id": "jAG84RGiE29j",
        "outputId": "2f78f00a-26b0-4473-d2b5-2ffdde29a0c7"
      },
      "outputs": [
        {
          "output_type": "stream",
          "name": "stdout",
          "text": [
            "r4_lev_EquityRatio:\n",
            "0       7.606255e-01\n",
            "1       8.964793e-01\n",
            "2       5.765936e-01\n",
            "3       5.525385e-01\n",
            "4       9.349091e-01\n",
            "            ...     \n",
            "3960    1.962956e-01\n",
            "3961   -3.428070e-02\n",
            "3962    8.313695e-02\n",
            "3963    7.791938e+05\n",
            "3964    4.864857e+06\n",
            "Name: r4_lev_EquityRatio, Length: 3965, dtype: float64\n"
          ]
        }
      ],
      "source": [
        "#################################################################################\n",
        "# Leverage Ratios:\n",
        "#################################################################################\n",
        "#(4) Equity ratio =  equity / assets\n",
        "#(4) Equity ratio =  Patrimonio Neto / Activos\n",
        "df['r4_lev_EquityRatio'] = df['20000']/df['10000']\n",
        "print ('r4_lev_EquityRatio:')\n",
        "print (df['r4_lev_EquityRatio'])\n",
        "\n"
      ]
    },
    {
      "cell_type": "code",
      "execution_count": 5,
      "metadata": {
        "colab": {
          "base_uri": "https://localhost:8080/"
        },
        "id": "8pX0VImCE29k",
        "outputId": "7a425508-c20e-46a2-d834-1bdca8635b6a"
      },
      "outputs": [
        {
          "output_type": "stream",
          "name": "stdout",
          "text": [
            "r5_prof_GrossProfitMargin:\n",
            "0       1.756836\n",
            "1       1.768608\n",
            "2       1.568710\n",
            "3       1.488517\n",
            "4       1.258319\n",
            "          ...   \n",
            "3960    1.984650\n",
            "3961    1.794683\n",
            "3962    1.805598\n",
            "3963    0.976107\n",
            "3964    0.987208\n",
            "Name: r5_prof_GrossProfitMargin, Length: 3965, dtype: float64\n"
          ]
        }
      ],
      "source": [
        "#################################################################################\n",
        "# Profitability Ratios:\n",
        "#################################################################################\n",
        "#(5) Gross profit margin =  Gross Profit* / Turnover\n",
        "#(5) Gross profit margin =  (Importe neto de la cifra de Negocio - Aprovisionamientos) / Importe neto de la cifra de Negocio\n",
        "df['r5_prof_GrossProfitMargin'] = (df['40100']-df['40400'])/df['40100']\n",
        "print ('r5_prof_GrossProfitMargin:')\n",
        "print (df['r5_prof_GrossProfitMargin'])\n"
      ]
    },
    {
      "cell_type": "code",
      "execution_count": 6,
      "metadata": {
        "scrolled": true,
        "colab": {
          "base_uri": "https://localhost:8080/"
        },
        "id": "h0k4g9xAE29k",
        "outputId": "cb436a39-9e17-4712-c8a0-d4c017ffc0ac"
      },
      "outputs": [
        {
          "output_type": "stream",
          "name": "stdout",
          "text": [
            "r6_cap_EbitdaXInterestExpense:\n",
            "0      -4.038900e+01\n",
            "1      -3.021023e+01\n",
            "2       9.405926e+00\n",
            "3      -1.152911e+01\n",
            "4      -2.773046e+02\n",
            "            ...     \n",
            "3960    1.223975e+01\n",
            "3961   -1.635398e+07\n",
            "3962    4.453867e+07\n",
            "3963   -2.609202e+06\n",
            "3964    8.944889e+04\n",
            "Name: r6_cap_EbitdaXInterestExpense, Length: 3965, dtype: float64\n"
          ]
        }
      ],
      "source": [
        "#################################################################################\n",
        "# Capital Structure Ratios:\n",
        "#################################################################################\n",
        "#(6) (EBITDA / Interest Expense) = EBITDA / Interest Expense\n",
        "#(6) (EBITDA / Interest Expense) = (Resultado de explotación - Amortización Del Inmovilizado) / Gastos Financieros (Gastos de Intereses)\n",
        "df['r6_cap_EbitdaXInterestExpense'] = (df['49100']-df['40800'])/df['41500']\n",
        "print ('r6_cap_EbitdaXInterestExpense:')\n",
        "print (df['r6_cap_EbitdaXInterestExpense'])\n"
      ]
    },
    {
      "cell_type": "code",
      "execution_count": 7,
      "metadata": {
        "colab": {
          "base_uri": "https://localhost:8080/"
        },
        "id": "M8RIcSZQE29l",
        "outputId": "02113f1f-5684-4d0a-fab4-4b1239c2cfcf"
      },
      "outputs": [
        {
          "output_type": "stream",
          "name": "stdout",
          "text": [
            "r7_siz_TreasuryXAssets:\n",
            "0       3.270911e-09\n",
            "1       3.618211e-09\n",
            "2       1.380715e-02\n",
            "3       4.667852e-02\n",
            "4       4.195191e-03\n",
            "            ...     \n",
            "3960    1.644578e-08\n",
            "3961    2.096168e-09\n",
            "3962    1.866624e-09\n",
            "3963    1.000000e+00\n",
            "3964    1.000000e+00\n",
            "Name: r7_siz_TreasuryXAssets, Length: 3965, dtype: float64\n"
          ]
        }
      ],
      "source": [
        "#################################################################################\n",
        "# Size (and Size Appropriateness) Ratios:\n",
        "#################################################################################\n",
        "#(7) Size2 = Treasury (Cash+Cash and equivalents)/Assets = Tesoreria (Caja+Bancos) / Activos\n",
        "df['r7_siz_TreasuryXAssets'] = df['12710']/df['10000']\n",
        "print ('r7_siz_TreasuryXAssets:')\n",
        "print (df['r7_siz_TreasuryXAssets'])\n"
      ]
    },
    {
      "cell_type": "code",
      "execution_count": 8,
      "metadata": {
        "colab": {
          "base_uri": "https://localhost:8080/"
        },
        "id": "WcLQ2GqKE29l",
        "outputId": "618c6a76-d1bf-4a15-b3d4-d86587bd68d5"
      },
      "outputs": [
        {
          "output_type": "stream",
          "name": "stdout",
          "text": [
            "r8_grow_NetIncome:\n",
            "0            NaN\n",
            "1       0.766098\n",
            "2            NaN\n",
            "3      -0.410036\n",
            "4            NaN\n",
            "          ...   \n",
            "3960   -0.486287\n",
            "3961         NaN\n",
            "3962   -2.723414\n",
            "3963         NaN\n",
            "3964   -0.087689\n",
            "Name: r8_grow_NetIncome, Length: 3965, dtype: float64\n"
          ]
        }
      ],
      "source": [
        "#################################################################################\n",
        "# Grow Ratios:\n",
        "#################################################################################\n",
        "# codition: same company and current 'year' is one year after previous row (example 2014 and 2013)\n",
        "df['codition'] = (df['company'] == df['company'].shift(1)) & (df['year']-1 == df['year'].shift(1))\n",
        "#(4) Net Income =  Net Income[YEAR]/Net Income[YEAR-1]\n",
        "#(4) Net Income =  Resultado del ejercicio[AÑO ACTUAL]/Resultado del ejercicio[AÑO ANTERIOR]\n",
        "df.loc[df['codition'], 'r8_grow_NetIncome'] = df['49500'] / df['49500'].shift(1)\n",
        "print ('r8_grow_NetIncome:')\n",
        "print (df['r8_grow_NetIncome'])\n",
        "\n"
      ]
    },
    {
      "cell_type": "code",
      "execution_count": 9,
      "metadata": {
        "id": "KvQLJaxQE29l"
      },
      "outputs": [],
      "source": [
        "#IDENTIFYING ALL RATIOS...\n",
        "RATIOS = []\n",
        "for var_name in df.columns:\n",
        "    if re.search('^r',var_name):\n",
        "        RATIOS.append(var_name)\n"
      ]
    },
    {
      "cell_type": "code",
      "execution_count": 10,
      "metadata": {
        "colab": {
          "base_uri": "https://localhost:8080/"
        },
        "id": "trl7iuAlE29l",
        "outputId": "22290ec0-c896-40e7-f08d-1590f8badf74"
      },
      "outputs": [
        {
          "output_type": "stream",
          "name": "stdout",
          "text": [
            "CALCULATING RANKINGS FOR ALL RATIOS...\n"
          ]
        }
      ],
      "source": [
        "##################################################################################\n",
        "# CALCULATING RANKINGS FOR ALL RATIOS...\n",
        "##################################################################################\n",
        "print (\"CALCULATING RANKINGS FOR ALL RATIOS...\")\n",
        "for ratio in RATIOS:\n",
        "    df[ratio+'_rank'] = df[ratio].rank() / len(df)\n",
        "\n",
        "RANKS = []\n",
        "for var_name in df.columns:\n",
        "    if re.search('_rank',var_name):\n",
        "        RANKS.append(var_name)\n"
      ]
    },
    {
      "cell_type": "code",
      "execution_count": 11,
      "metadata": {
        "colab": {
          "base_uri": "https://localhost:8080/",
          "height": 472
        },
        "id": "RYBSFnULE29m",
        "outputId": "99cfaeca-80aa-4042-8e4f-8f22c94a7e8a"
      },
      "outputs": [
        {
          "output_type": "display_data",
          "data": {
            "text/plain": [
              "<Figure size 640x480 with 1 Axes>"
            ],
            "image/png": "[encoded data removed]"
          },
          "metadata": {}
        }
      ],
      "source": [
        "\"\"\"\n",
        "Horizontal bar chart.\n",
        "\"\"\"\n",
        "import matplotlib.pyplot as plt; plt.rcdefaults()\n",
        "import matplotlib.pyplot as plt\n",
        "\n",
        "\n",
        "# Example data\n",
        "company = 1 #Empresa 1\n",
        "dfind = df[(df[\"company\"] == company) & (df[\"year\"] == 2013)]\n",
        "dfind = dfind[RANKS]\n",
        "\n",
        "y_pos = np.arange(len(RANKS))\n",
        "performance = list(np.hstack(dfind.values.tolist()))\n",
        "\n",
        "error = np.random.rand(len(RANKS))\n",
        "\n",
        "plt.barh(y_pos, performance, align='center',  ecolor='r', alpha=0.8, color=(0.75,0.1,0.1), linewidth=0)\n",
        "plt.yticks(y_pos, RANKS)\n",
        "plt.xlabel('Indutry Percentiles / Percentiles sectoriales')\n",
        "plt.title('Company: ' + str(company) )\n",
        "plt.grid(True)\n",
        "plt.show()\n"
      ]
    },
    {
      "cell_type": "code",
      "execution_count": 12,
      "metadata": {
        "colab": {
          "base_uri": "https://localhost:8080/"
        },
        "id": "J95ud1EdE29m",
        "outputId": "8f3ca081-cd48-4a23-e625-b75843da61d9"
      },
      "outputs": [
        {
          "output_type": "stream",
          "name": "stdout",
          "text": [
            "NORMALISING ALL RATIOS...\n"
          ]
        },
        {
          "output_type": "stream",
          "name": "stderr",
          "text": [
            "<ipython-input-12-1c8815691958>:7: SettingWithCopyWarning: \n",
            "A value is trying to be set on a copy of a slice from a DataFrame.\n",
            "Try using .loc[row_indexer,col_indexer] = value instead\n",
            "\n",
            "See the caveats in the documentation: https://pandas.pydata.org/pandas-docs/stable/user_guide/indexing.html#returning-a-view-versus-a-copy\n",
            "  df[ratio+'_normalised'] = (df[ratio] - df[ratio].mean()) / df[ratio].std()\n"
          ]
        }
      ],
      "source": [
        "##################################################################################\n",
        "# NORMALISING ALL RATIOS...\n",
        "##################################################################################\n",
        "print (\"NORMALISING ALL RATIOS...\")\n",
        "for ratio in RATIOS:\n",
        "    df = df[np.abs(df[ratio]-df[ratio].mean())<=(10*df[ratio].std())] #keep only the ones that are within +10 to -10 standard deviations in the column 'Data'.\n",
        "    df[ratio+'_normalised'] = (df[ratio] - df[ratio].mean()) / df[ratio].std()\n"
      ]
    },
    {
      "cell_type": "code",
      "execution_count": 13,
      "metadata": {
        "colab": {
          "base_uri": "https://localhost:8080/"
        },
        "id": "4NMqTEBhE29m",
        "outputId": "8a917945-feb9-411f-988a-b8544d6a29c3"
      },
      "outputs": [
        {
          "output_type": "stream",
          "name": "stdout",
          "text": [
            "                 Generalized Linear Model Regression Results                  \n",
            "==============================================================================\n",
            "Dep. Variable:                 target   No. Observations:                 1869\n",
            "Model:                            GLM   Df Residuals:                     1861\n",
            "Model Family:                Binomial   Df Model:                            7\n",
            "Link Function:                  Logit   Scale:                          1.0000\n",
            "Method:                          IRLS   Log-Likelihood:                -391.24\n",
            "Date:                Mon, 10 Feb 2025   Deviance:                       782.48\n",
            "Time:                        13:36:57   Pearson chi2:                 1.86e+03\n",
            "No. Iterations:                    12   Pseudo R-squ. (CS):            0.01090\n",
            "Covariance Type:            nonrobust                                         \n",
            "============================================================================================================\n",
            "                                               coef    std err          z      P>|z|      [0.025      0.975]\n",
            "------------------------------------------------------------------------------------------------------------\n",
            "r1_act_InvTurn_normalised                    0.0413      0.084      0.489      0.625      -0.124       0.207\n",
            "r2_act_InvTurnDays_normalised              148.2106     41.748      3.550      0.000      66.386     230.035\n",
            "r3_liq_QuickRatio_normalised                34.5730     44.497      0.777      0.437     -52.640     121.786\n",
            "r4_lev_EquityRatio_normalised               -0.1284      2.412     -0.053      0.958      -4.855       4.598\n",
            "r5_prof_GrossProfitMargin_normalised        -0.0300      0.123     -0.244      0.807      -0.271       0.211\n",
            "r6_cap_EbitdaXInterestExpense_normalised     0.0657      0.069      0.959      0.338      -0.069       0.200\n",
            "r7_siz_TreasuryXAssets_normalised            0.3121      0.081      3.872      0.000       0.154       0.470\n",
            "r8_grow_NetIncome_normalised                -0.3916      0.436     -0.898      0.369      -1.246       0.463\n",
            "============================================================================================================\n"
          ]
        }
      ],
      "source": [
        "##################################################################################\n",
        "# DEVELOPING A MODEL...\n",
        "##################################################################################\n",
        "#IDENTIFYING NORMALISED RATIOS...\n",
        "IN_MODEL= []\n",
        "for var_name in df.columns:\n",
        "    if re.search('_normalised',var_name):\n",
        "        IN_MODEL.append(var_name)\n",
        "\n",
        "output_var = 'target'\n",
        "\n",
        "X = df[list(IN_MODEL)]\n",
        "y = df[output_var]\n",
        "\n",
        "\n",
        "#model = sm.Logit(y,X)\n",
        "try:\n",
        "    model = sm.GLM(y,X, family = sm.families.Binomial())\n",
        "    result = model.fit()\n",
        "    print (result.summary())\n",
        "    y_pred = result.predict(X)\n",
        "except np.linalg.linalg.LinAlgError as err:\n",
        "    print (\"MODEL-INVALID (Singular Matrix)\")\n"
      ]
    },
    {
      "cell_type": "code",
      "execution_count": null,
      "metadata": {
        "id": "aG9KU7eDE29m",
        "outputId": "915e872d-f7ef-454f-8407-b8af81a742b9"
      },
      "outputs": [
        {
          "name": "stdout",
          "output_type": "stream",
          "text": [
            "GINI DEVELOPMENT= 0.24657332752233607\n"
          ]
        }
      ],
      "source": [
        "df['pred'] = y_pred\n",
        "\n",
        "from sklearn.metrics import roc_auc_score\n",
        "gini_score = 2*roc_auc_score(df[output_var], y_pred)-1\n",
        "print (\"GINI DEVELOPMENT=\", gini_score)\n"
      ]
    },
    {
      "cell_type": "code",
      "execution_count": null,
      "metadata": {
        "id": "HwRqpn7zE29n",
        "outputId": "e15486c7-2c12-422b-bb70-a799753145c9"
      },
      "outputs": [
        {
          "name": "stdout",
          "output_type": "stream",
          "text": [
            "WRITTING TO CSV...\n"
          ]
        }
      ],
      "source": [
        "##################################################################################\n",
        "# WRITTING DOWN RESULTS\n",
        "##################################################################################\n",
        "#print (\"WRITTING TO CSV...\")\n",
        "#df.to_csv(\"ie_mbd_s05n6_companies_calc_ratios_v3.csv\", sep=';')\n"
      ]
    },
    {
      "cell_type": "code",
      "execution_count": null,
      "metadata": {
        "id": "wBBJM8MxE29n"
      },
      "outputs": [],
      "source": []
    }
  ],
  "metadata": {
    "kernelspec": {
      "display_name": "Python 3 (ipykernel)",
      "language": "python",
      "name": "python3"
    },
    "language_info": {
      "codemirror_mode": {
        "name": "ipython",
        "version": 3
      },
      "file_extension": ".py",
      "mimetype": "text/x-python",
      "name": "python",
      "nbconvert_exporter": "python",
      "pygments_lexer": "ipython3",
      "version": "3.11.7"
    },
    "colab": {
      "provenance": []
    }
  },
  "nbformat": 4,
  "nbformat_minor": 0
}