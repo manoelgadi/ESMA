{
 "cells": [
  {
   "cell_type": "markdown",
   "metadata": {},
   "source": [
    "# Trend Analysis using Python\n",
    "       \n",
    "<img src=\"img/profile_manoelgadi.png\" width=100 height=100 align=\"right\">\n",
    "\n",
    "Author: Prof. Manoel Gadi\n",
    "\n",
    "Contact: mfalonso@faculty.ie.edu\n",
    "\n",
    "Teaching Web: http://mfalonso.pythonanywhere.com\n",
    "\n",
    "Last revision: 08/October/2024\n",
    "    \n",
    "        "
   ]
  },
  {
   "cell_type": "code",
   "execution_count": null,
   "metadata": {},
   "outputs": [],
   "source": []
  },
  {
   "cell_type": "markdown",
   "metadata": {},
   "source": [
    "# Time Series Analysis"
   ]
  },
  {
   "cell_type": "markdown",
   "metadata": {},
   "source": [
    "Time series forecasting is __fundamental for various use cases in different domains such as energy\n",
    "systems and economics__. Creating a forecasting model for a specific use case requires an iterative and\n",
    "complex design process. The typical design process includes the five sections:\n",
    "* (1) data pre-processing,\n",
    "* (2) feature engineering, \n",
    "* (3) hyperparameter optimization, \n",
    "* (4) forecasting method selection, and \n",
    "* (5) forecast ensembling\n",
    "\n"
   ]
  },
  {
   "cell_type": "markdown",
   "metadata": {},
   "source": [
    "## What is the time series\n",
    "A time series is a series of data points indexed (or listed or graphed) in time order. Most commonly, a time series is a sequence taken at successive equally spaced points in time. Time series are used in statistics, signal processing, pattern recognition, econometrics, mathematical finance, weather forecasting, earthquake prediction, electroencephalography, control engineering, astronomy, communications engineering, and largely in any domain of applied science and engineering which involves temporal measurements. [1]"
   ]
  },
  {
   "cell_type": "markdown",
   "metadata": {},
   "source": [
    "<img src=\"img/forecasting_pipeline.png\" >"
   ]
  },
  {
   "cell_type": "markdown",
   "metadata": {},
   "source": [
    "<img src=\"https://miro.medium.com/max/1400/0*bCS3EWiVfLIZqwIW.gif\">"
   ]
  },
  {
   "cell_type": "markdown",
   "metadata": {},
   "source": [
    "## Let's start with the basics - The Components of a Time Series\n",
    "\n",
    "Time series has four components. Any time series can contain some or all of the following components: [2]\n",
    "- Trend (T)\n",
    "-  Seasonal (S)\n",
    "-  Cyclical (C)\n",
    "- Irregular - Random (I)\n",
    "\n",
    "These components may be combined in different ways. It is usually assumed that they are multiplied or\n",
    "added, i.e. \n",
    "\n",
    "yt = T × C × S × I\n",
    "yt = T + C + S + I\n",
    "\n",
    "**Trend Component:**  The trend is the long term pattern of a time series. A trend can be positive or negative depending on whether\n",
    "the time series exhibits an increasing long term pattern or a decreasing long term pattern. If a time series does not show an increasing or decreasing pattern then the series is stationary in the mean.\n",
    "\n",
    "**Cyclical component:** Any pattern showing an up and down movement around a given trend is identified as a cyclical pattern. The duration of a cycle depends on the type of business or industry being analyzed. \n",
    "\n",
    "**Seasonal component:** Seasonality occurs when the time series exhibits regular fluctuations during the same month (or months) every year, or during the same quarter every year. For instance, retail sales peak during the month of December. \n",
    "\n",
    "**Irregular component:**  This component is unpredictable. Every time series has some unpredictable component that makes it a random variable. In prediction, the objective is to “model” all the components to the point that the only component that remains unexplained is the random component.\n"
   ]
  },
  {
   "cell_type": "markdown",
   "metadata": {},
   "source": [
    "## The Box-Jenkins Methodology. ARIMA Models\n",
    "\n",
    "The Box-Jenkins Model forecasts data using three principles: autoregression, differencing, and\n",
    "moving average. Each principle is used in the Box-Jenkins analysis; together, they are collectively\n",
    "shown as ARIMA (p, d, q). The methodology allows the model to identify trends using\n",
    "autoregresssion, moving averages, and seasonal differencing to generate forecasts.\n",
    "\n",
    "This analysis will be explained and applied to different uses like forecasting a variety of anticipated\n",
    "data points or data ranges, including business data and future security prices\n"
   ]
  },
  {
   "cell_type": "markdown",
   "metadata": {},
   "source": [
    "## 4.7 - MA models: an approximation to the ARMA models"
   ]
  },
  {
   "cell_type": "markdown",
   "metadata": {},
   "source": [
    "### 4.7.1 Auto Regression (AR) MODELS - Long Memory Models\n",
    "\n",
    "AR is a stationary model, it forecast the past values of the series based solely on the past values of the series (lags).\n",
    "\n",
    "In a Auto Regression 1, AR(1), the forecast is calculated based on the previous day target (also known as lagged target).\n",
    "\n",
    "In a Auto Regression 1, AR(p), the forecast is calculated based on the p days ago target.\n",
    "\n",
    "<img src=\"img/AR1.png\" width=500 height=500>\n",
    "\n",
    "#### VIDEO:\n",
    "AR Models:https://www.youtube.com/watch?v=Mc6sBAUdDP4"
   ]
  },
  {
   "cell_type": "code",
   "execution_count": 1,
   "metadata": {},
   "outputs": [],
   "source": [
    "import pandas as pd\n",
    "df = pd.read_csv(\"data/AAPL_2006-01-01_to_2018-01-01.csv\")[[\"Date\",\"Close\"]]\n",
    "df[\"Date\"] = pd.to_datetime(df[\"Date\"], format = \"%Y-%m-%d\")\n",
    "\n",
    "df_monthly = df.set_index(\"Date\").resample(\"M\")[\"Close\"].mean().reset_index()\n",
    "df_monthly = df_monthly.set_index(\"Date\").asfreq('M').reset_index()\n",
    "df_monthly = df_monthly.set_index(\"Date\")\n",
    "df_monthly.index.freq = \"M\""
   ]
  },
  {
   "cell_type": "code",
   "execution_count": 2,
   "metadata": {},
   "outputs": [],
   "source": [
    "train = df_monthly[:-40]\n",
    "test = df_monthly[-40:]\n",
    "start = len(train)\n",
    "end = start + len(test) - 1"
   ]
  },
  {
   "cell_type": "code",
   "execution_count": 3,
   "metadata": {},
   "outputs": [],
   "source": [
    "from statsmodels.tsa.ar_model import AutoReg #\n",
    "model_ar = AutoReg(train[\"Close\"], lags=1)\n",
    "model_ar_fit1 = model_ar.fit()\n",
    "prediction_ar1 = model_ar_fit1.predict(start, end).rename(\"AR(1) Model\")\n",
    "\n",
    "\n",
    "model_ar = AutoReg(train[\"Close\"], lags=2)\n",
    "model_ar_fit2 = model_ar.fit()\n",
    "prediction_ar2 = model_ar_fit2.predict(start, end).rename(\"AR(2) Model\")\n",
    "\n",
    "model_ar = AutoReg(train[\"Close\"], lags=3)\n",
    "model_ar_fit3 = model_ar.fit()\n",
    "prediction_ar3 = model_ar_fit3.predict(start, end).rename(\"AR(3) Model\")\n",
    "\n",
    "model_ar = AutoReg(train[\"Close\"], lags=4)\n",
    "model_ar_fit4 = model_ar.fit()\n",
    "prediction_ar4 = model_ar_fit4.predict(start, end).rename(\"AR(4) Model\")"
   ]
  },
  {
   "cell_type": "code",
   "execution_count": 4,
   "metadata": {},
   "outputs": [
    {
     "name": "stdout",
     "output_type": "stream",
     "text": [
      "AR-1 MSE -> 271.8136876964665\n",
      "AR-2 MSE -> 482.42592760567123\n",
      "AR-3 MSE -> 371.4364149506611\n",
      "AR-4 MSE -> 350.057003153153\n"
     ]
    }
   ],
   "source": [
    "from sklearn.metrics import mean_squared_error\n",
    "labels = [\"AR-1\",\"AR-2\", \"AR-3\", \"AR-4\"]\n",
    "preds = [prediction_ar1,prediction_ar2,prediction_ar3,prediction_ar4]\n",
    "\n",
    "for i in range(4):\n",
    "    error = mean_squared_error(test[\"Close\"], preds[i])\n",
    "    print(f'{labels[i]} MSE -> {error}')"
   ]
  },
  {
   "cell_type": "code",
   "execution_count": 5,
   "metadata": {},
   "outputs": [
    {
     "data": {
      "text/plain": [
       "<Axes: xlabel='Date'>"
      ]
     },
     "execution_count": 5,
     "metadata": {},
     "output_type": "execute_result"
    },
    {
     "data": {
      "image/png": "[encoded data removed]",
      "text/plain": [
       "<Figure size 1500x800 with 1 Axes>"
      ]
     },
     "metadata": {},
     "output_type": "display_data"
    }
   ],
   "source": [
    "test.Close.plot(figsize = (15,8), legend = True)\n",
    "prediction_ar1.plot(legend = True)\n",
    "prediction_ar2.plot(legend = True)\n",
    "prediction_ar3.plot(legend = True)\n",
    "prediction_ar4.plot(legend = True)"
   ]
  },
  {
   "cell_type": "code",
   "execution_count": 6,
   "metadata": {},
   "outputs": [
    {
     "data": {
      "text/html": [
       "<table class=\"simpletable\">\n",
       "<caption>AutoReg Model Results</caption>\n",
       "<tr>\n",
       "  <th>Dep. Variable:</th>       <td>Close</td>      <th>  No. Observations:  </th>    <td>104</td>  \n",
       "</tr>\n",
       "<tr>\n",
       "  <th>Model:</th>            <td>AutoReg(1)</td>    <th>  Log Likelihood     </th> <td>-271.102</td>\n",
       "</tr>\n",
       "<tr>\n",
       "  <th>Method:</th>         <td>Conditional MLE</td> <th>  S.D. of innovations</th>   <td>3.364</td> \n",
       "</tr>\n",
       "<tr>\n",
       "  <th>Date:</th>          <td>Tue, 08 Oct 2024</td> <th>  AIC                </th>  <td>548.203</td>\n",
       "</tr>\n",
       "<tr>\n",
       "  <th>Time:</th>              <td>11:18:06</td>     <th>  BIC                </th>  <td>556.107</td>\n",
       "</tr>\n",
       "<tr>\n",
       "  <th>Sample:</th>           <td>02-28-2006</td>    <th>  HQIC               </th>  <td>551.405</td>\n",
       "</tr>\n",
       "<tr>\n",
       "  <th></th>                 <td>- 08-31-2014</td>   <th>                     </th>     <td> </td>   \n",
       "</tr>\n",
       "</table>\n",
       "<table class=\"simpletable\">\n",
       "<tr>\n",
       "      <td></td>        <th>coef</th>     <th>std err</th>      <th>z</th>      <th>P>|z|</th>  <th>[0.025</th>    <th>0.975]</th>  \n",
       "</tr>\n",
       "<tr>\n",
       "  <th>const</th>    <td>    0.5461</td> <td>    0.613</td> <td>    0.892</td> <td> 0.373</td> <td>   -0.654</td> <td>    1.747</td>\n",
       "</tr>\n",
       "<tr>\n",
       "  <th>Close.L1</th> <td>    1.0073</td> <td>    0.012</td> <td>   81.221</td> <td> 0.000</td> <td>    0.983</td> <td>    1.032</td>\n",
       "</tr>\n",
       "</table>\n",
       "<table class=\"simpletable\">\n",
       "<caption>Roots</caption>\n",
       "<tr>\n",
       "    <td></td>   <th>            Real</th>  <th>         Imaginary</th> <th>         Modulus</th>  <th>        Frequency</th>\n",
       "</tr>\n",
       "<tr>\n",
       "  <th>AR.1</th> <td>           0.9928</td> <td>          +0.0000j</td> <td>           0.9928</td> <td>           0.0000</td>\n",
       "</tr>\n",
       "</table>"
      ],
      "text/latex": [
       "\\begin{center}\n",
       "\\begin{tabular}{lclc}\n",
       "\\toprule\n",
       "\\textbf{Dep. Variable:} &           Close           & \\textbf{  No. Observations:  } &            104             \\\\\n",
       "\\textbf{Model:}         &         AutoReg(1)        & \\textbf{  Log Likelihood     } &          -271.102          \\\\\n",
       "\\textbf{Method:}        &      Conditional MLE      & \\textbf{  S.D. of innovations} &           3.364            \\\\\n",
       "\\textbf{Date:}          &      Tue, 08 Oct 2024     & \\textbf{  AIC                } &          548.203           \\\\\n",
       "\\textbf{Time:}          &          11:18:06         & \\textbf{  BIC                } &          556.107           \\\\\n",
       "\\textbf{Sample:}        &         02-28-2006        & \\textbf{  HQIC               } &          551.405           \\\\\n",
       "\\textbf{}               &        - 08-31-2014       & \\textbf{                     } &                            \\\\\n",
       "\\bottomrule\n",
       "\\end{tabular}\n",
       "\\begin{tabular}{lcccccc}\n",
       "                  & \\textbf{coef} & \\textbf{std err} & \\textbf{z} & \\textbf{P$> |$z$|$} & \\textbf{[0.025} & \\textbf{0.975]}  \\\\\n",
       "\\midrule\n",
       "\\textbf{const}    &       0.5461  &        0.613     &     0.892  &         0.373        &       -0.654    &        1.747     \\\\\n",
       "\\textbf{Close.L1} &       1.0073  &        0.012     &    81.221  &         0.000        &        0.983    &        1.032     \\\\\n",
       "\\bottomrule\n",
       "\\end{tabular}\n",
       "\\begin{tabular}{lcccc}\n",
       "              & \\textbf{            Real} & \\textbf{         Imaginary} & \\textbf{         Modulus} & \\textbf{        Frequency}  \\\\\n",
       "\\midrule\n",
       "\\textbf{AR.1} &                0.9928     &                +0.0000j     &                0.9928     &                0.0000       \\\\\n",
       "\\bottomrule\n",
       "\\end{tabular}\n",
       "%\\caption{AutoReg Model Results}\n",
       "\\end{center}"
      ],
      "text/plain": [
       "<class 'statsmodels.iolib.summary.Summary'>\n",
       "\"\"\"\n",
       "                            AutoReg Model Results                             \n",
       "==============================================================================\n",
       "Dep. Variable:                  Close   No. Observations:                  104\n",
       "Model:                     AutoReg(1)   Log Likelihood                -271.102\n",
       "Method:               Conditional MLE   S.D. of innovations              3.364\n",
       "Date:                Tue, 08 Oct 2024   AIC                            548.203\n",
       "Time:                        11:18:06   BIC                            556.107\n",
       "Sample:                    02-28-2006   HQIC                           551.405\n",
       "                         - 08-31-2014                                         \n",
       "==============================================================================\n",
       "                 coef    std err          z      P>|z|      [0.025      0.975]\n",
       "------------------------------------------------------------------------------\n",
       "const          0.5461      0.613      0.892      0.373      -0.654       1.747\n",
       "Close.L1       1.0073      0.012     81.221      0.000       0.983       1.032\n",
       "                                    Roots                                    \n",
       "=============================================================================\n",
       "                  Real          Imaginary           Modulus         Frequency\n",
       "-----------------------------------------------------------------------------\n",
       "AR.1            0.9928           +0.0000j            0.9928            0.0000\n",
       "-----------------------------------------------------------------------------\n",
       "\"\"\""
      ]
     },
     "execution_count": 6,
     "metadata": {},
     "output_type": "execute_result"
    }
   ],
   "source": [
    "model_ar_fit1.summary()"
   ]
  },
  {
   "cell_type": "markdown",
   "metadata": {},
   "source": [
    "---\n",
    "# But, was I right using a AR model?\n",
    "\n",
    "## Checks for Stationarity\n",
    "\n",
    "* __Look at Plots__: You can review a time series plot of your data and visually check if there are any obvious trends or seasonality.\n",
    "* __Summary Statistics__: You can review the summary statistics for your data for seasons or random partitions and check for obvious or significant differences.\n",
    "* __Statistical Tests__: You can use statistical tests to check if the expectations of stationarity are met or have been violated.\n",
    "\n",
    "ref: https://machinelearningmastery.com/time-series-data-stationary-python/\n",
    "\n",
    "\n",
    "## Augmented Dickey-Fuller unit root test.\n",
    "# documentation: https://www.statsmodels.org/dev/generated/statsmodels.tsa.stattools.adfuller.html\n",
    "\n",
    "* __Null Hypothesis (H0)__: If failed to be rejected, it suggests the time series has a unit root, meaning it is non-stationary. It has some time dependent structure.\n",
    "* __Alternate Hypothesis (H1)__: The null hypothesis is rejected; it suggests the time series does not have a unit root, meaning it is stationary. It does not have time-dependent structure.\n"
   ]
  },
  {
   "cell_type": "code",
   "execution_count": 7,
   "metadata": {},
   "outputs": [
    {
     "name": "stdout",
     "output_type": "stream",
     "text": [
      "ADF Statistic: -0.281589\n",
      "p-value: 0.928072\n",
      "series is non-stationary\n"
     ]
    }
   ],
   "source": [
    "from statsmodels.tsa.stattools import adfuller\n",
    "X = train[\"Close\"]\n",
    "result = adfuller(X)\n",
    "print('ADF Statistic: %f' % result[0])\n",
    "print('p-value: %f' % result[1])\n",
    "print('series is stationary') if result[1] < 0.05 else print('series is non-stationary')\n"
   ]
  },
  {
   "cell_type": "markdown",
   "metadata": {},
   "source": [
    "## What about the mortgages data?"
   ]
  },
  {
   "cell_type": "code",
   "execution_count": 8,
   "metadata": {},
   "outputs": [],
   "source": [
    "data = pd.read_csv('data/mortgages.csv', sep = ';')\n",
    "data = data.sort_values(by = ['fch'])"
   ]
  },
  {
   "cell_type": "code",
   "execution_count": 9,
   "metadata": {},
   "outputs": [
    {
     "data": {
      "text/html": [
       "<div>\n",
       "<style scoped>\n",
       "    .dataframe tbody tr th:only-of-type {\n",
       "        vertical-align: middle;\n",
       "    }\n",
       "\n",
       "    .dataframe tbody tr th {\n",
       "        vertical-align: top;\n",
       "    }\n",
       "\n",
       "    .dataframe thead th {\n",
       "        text-align: right;\n",
       "    }\n",
       "</style>\n",
       "<table border=\"1\" class=\"dataframe\">\n",
       "  <thead>\n",
       "    <tr style=\"text-align: right;\">\n",
       "      <th></th>\n",
       "      <th>fch</th>\n",
       "      <th>valor</th>\n",
       "    </tr>\n",
       "  </thead>\n",
       "  <tbody>\n",
       "    <tr>\n",
       "      <th>221</th>\n",
       "      <td>2003M01</td>\n",
       "      <td>118040</td>\n",
       "    </tr>\n",
       "    <tr>\n",
       "      <th>220</th>\n",
       "      <td>2003M02</td>\n",
       "      <td>119166</td>\n",
       "    </tr>\n",
       "    <tr>\n",
       "      <th>219</th>\n",
       "      <td>2003M03</td>\n",
       "      <td>116565</td>\n",
       "    </tr>\n",
       "    <tr>\n",
       "      <th>218</th>\n",
       "      <td>2003M04</td>\n",
       "      <td>104744</td>\n",
       "    </tr>\n",
       "    <tr>\n",
       "      <th>217</th>\n",
       "      <td>2003M05</td>\n",
       "      <td>116615</td>\n",
       "    </tr>\n",
       "    <tr>\n",
       "      <th>...</th>\n",
       "      <td>...</td>\n",
       "      <td>...</td>\n",
       "    </tr>\n",
       "    <tr>\n",
       "      <th>4</th>\n",
       "      <td>2021M02</td>\n",
       "      <td>42601</td>\n",
       "    </tr>\n",
       "    <tr>\n",
       "      <th>3</th>\n",
       "      <td>2021M03</td>\n",
       "      <td>49686</td>\n",
       "    </tr>\n",
       "    <tr>\n",
       "      <th>2</th>\n",
       "      <td>2021M04</td>\n",
       "      <td>43249</td>\n",
       "    </tr>\n",
       "    <tr>\n",
       "      <th>1</th>\n",
       "      <td>2021M05</td>\n",
       "      <td>47417</td>\n",
       "    </tr>\n",
       "    <tr>\n",
       "      <th>0</th>\n",
       "      <td>2021M06</td>\n",
       "      <td>49382</td>\n",
       "    </tr>\n",
       "  </tbody>\n",
       "</table>\n",
       "<p>222 rows × 2 columns</p>\n",
       "</div>"
      ],
      "text/plain": [
       "         fch   valor\n",
       "221  2003M01  118040\n",
       "220  2003M02  119166\n",
       "219  2003M03  116565\n",
       "218  2003M04  104744\n",
       "217  2003M05  116615\n",
       "..       ...     ...\n",
       "4    2021M02   42601\n",
       "3    2021M03   49686\n",
       "2    2021M04   43249\n",
       "1    2021M05   47417\n",
       "0    2021M06   49382\n",
       "\n",
       "[222 rows x 2 columns]"
      ]
     },
     "execution_count": 9,
     "metadata": {},
     "output_type": "execute_result"
    }
   ],
   "source": [
    "data"
   ]
  },
  {
   "cell_type": "code",
   "execution_count": 10,
   "metadata": {},
   "outputs": [
    {
     "name": "stdout",
     "output_type": "stream",
     "text": [
      "ADF Statistic: -1.558430\n",
      "p-value: 0.504434\n",
      "series is non-stationary\n"
     ]
    }
   ],
   "source": [
    "from statsmodels.tsa.stattools import adfuller\n",
    "X = data[\"valor\"]\n",
    "result = adfuller(X)\n",
    "print('ADF Statistic: %f' % result[0])\n",
    "print('p-value: %f' % result[1])\n",
    "print('series is stationary') if result[1] < 0.05 else print('series is non-stationary')"
   ]
  },
  {
   "cell_type": "markdown",
   "metadata": {},
   "source": [
    "Still bad, but a little better! So we need to add more elements to our model!"
   ]
  },
  {
   "cell_type": "markdown",
   "metadata": {},
   "source": [
    "### Brent Crude Oil Last Day Financ (BZ=F)"
   ]
  },
  {
   "cell_type": "code",
   "execution_count": 11,
   "metadata": {},
   "outputs": [
    {
     "name": "stdout",
     "output_type": "stream",
     "text": [
      "Requirement already satisfied: pandas_datareader in c:\\users\\manoe\\appdata\\roaming\\python\\python311\\site-packages (0.10.0)\n",
      "Requirement already satisfied: lxml in d:\\anaconda3\\lib\\site-packages (from pandas_datareader) (4.9.3)\n",
      "Requirement already satisfied: pandas>=0.23 in d:\\anaconda3\\lib\\site-packages (from pandas_datareader) (2.1.4)\n",
      "Requirement already satisfied: requests>=2.19.0 in d:\\anaconda3\\lib\\site-packages (from pandas_datareader) (2.31.0)\n",
      "Requirement already satisfied: numpy<2,>=1.23.2 in d:\\anaconda3\\lib\\site-packages (from pandas>=0.23->pandas_datareader) (1.26.4)\n",
      "Requirement already satisfied: python-dateutil>=2.8.2 in c:\\users\\manoe\\appdata\\roaming\\python\\python311\\site-packages (from pandas>=0.23->pandas_datareader) (2.8.2)\n",
      "Requirement already satisfied: pytz>=2020.1 in d:\\anaconda3\\lib\\site-packages (from pandas>=0.23->pandas_datareader) (2023.3.post1)\n",
      "Requirement already satisfied: tzdata>=2022.1 in c:\\users\\manoe\\appdata\\roaming\\python\\python311\\site-packages (from pandas>=0.23->pandas_datareader) (2023.3)\n",
      "Requirement already satisfied: charset-normalizer<4,>=2 in d:\\anaconda3\\lib\\site-packages (from requests>=2.19.0->pandas_datareader) (2.0.4)\n",
      "Requirement already satisfied: idna<4,>=2.5 in c:\\users\\manoe\\appdata\\roaming\\python\\python311\\site-packages (from requests>=2.19.0->pandas_datareader) (2.10)\n",
      "Requirement already satisfied: urllib3<3,>=1.21.1 in d:\\anaconda3\\lib\\site-packages (from requests>=2.19.0->pandas_datareader) (2.0.7)\n",
      "Requirement already satisfied: certifi>=2017.4.17 in d:\\anaconda3\\lib\\site-packages (from requests>=2.19.0->pandas_datareader) (2024.2.2)\n",
      "Requirement already satisfied: six>=1.5 in c:\\users\\manoe\\appdata\\roaming\\python\\python311\\site-packages (from python-dateutil>=2.8.2->pandas>=0.23->pandas_datareader) (1.16.0)\n"
     ]
    },
    {
     "name": "stderr",
     "output_type": "stream",
     "text": [
      "\n",
      "[notice] A new release of pip is available: 24.0 -> 24.2\n",
      "[notice] To update, run: python.exe -m pip install --upgrade pip\n"
     ]
    }
   ],
   "source": [
    "!pip install pandas_datareader"
   ]
  },
  {
   "cell_type": "code",
   "execution_count": 12,
   "metadata": {},
   "outputs": [
    {
     "name": "stdout",
     "output_type": "stream",
     "text": [
      "Requirement already satisfied: yfinance in c:\\users\\manoe\\appdata\\roaming\\python\\python311\\site-packages (0.2.28)\n",
      "Requirement already satisfied: pandas>=1.3.0 in d:\\anaconda3\\lib\\site-packages (from yfinance) (2.1.4)\n",
      "Requirement already satisfied: numpy>=1.16.5 in d:\\anaconda3\\lib\\site-packages (from yfinance) (1.26.4)\n",
      "Requirement already satisfied: requests>=2.31 in d:\\anaconda3\\lib\\site-packages (from yfinance) (2.31.0)\n",
      "Requirement already satisfied: multitasking>=0.0.7 in c:\\users\\manoe\\appdata\\roaming\\python\\python311\\site-packages (from yfinance) (0.0.11)\n",
      "Requirement already satisfied: lxml>=4.9.1 in d:\\anaconda3\\lib\\site-packages (from yfinance) (4.9.3)\n",
      "Requirement already satisfied: appdirs>=1.4.4 in d:\\anaconda3\\lib\\site-packages (from yfinance) (1.4.4)\n",
      "Requirement already satisfied: pytz>=2022.5 in d:\\anaconda3\\lib\\site-packages (from yfinance) (2023.3.post1)\n",
      "Requirement already satisfied: frozendict>=2.3.4 in c:\\users\\manoe\\appdata\\roaming\\python\\python311\\site-packages (from yfinance) (2.3.8)\n",
      "Requirement already satisfied: beautifulsoup4>=4.11.1 in d:\\anaconda3\\lib\\site-packages (from yfinance) (4.12.2)\n",
      "Requirement already satisfied: html5lib>=1.1 in c:\\users\\manoe\\appdata\\roaming\\python\\python311\\site-packages (from yfinance) (1.1)\n",
      "Requirement already satisfied: soupsieve>1.2 in d:\\anaconda3\\lib\\site-packages (from beautifulsoup4>=4.11.1->yfinance) (2.5)\n",
      "Requirement already satisfied: six>=1.9 in c:\\users\\manoe\\appdata\\roaming\\python\\python311\\site-packages (from html5lib>=1.1->yfinance) (1.16.0)\n",
      "Requirement already satisfied: webencodings in d:\\anaconda3\\lib\\site-packages (from html5lib>=1.1->yfinance) (0.5.1)\n",
      "Requirement already satisfied: python-dateutil>=2.8.2 in c:\\users\\manoe\\appdata\\roaming\\python\\python311\\site-packages (from pandas>=1.3.0->yfinance) (2.8.2)\n",
      "Requirement already satisfied: tzdata>=2022.1 in c:\\users\\manoe\\appdata\\roaming\\python\\python311\\site-packages (from pandas>=1.3.0->yfinance) (2023.3)\n",
      "Requirement already satisfied: charset-normalizer<4,>=2 in d:\\anaconda3\\lib\\site-packages (from requests>=2.31->yfinance) (2.0.4)\n",
      "Requirement already satisfied: idna<4,>=2.5 in c:\\users\\manoe\\appdata\\roaming\\python\\python311\\site-packages (from requests>=2.31->yfinance) (2.10)\n",
      "Requirement already satisfied: urllib3<3,>=1.21.1 in d:\\anaconda3\\lib\\site-packages (from requests>=2.31->yfinance) (2.0.7)\n",
      "Requirement already satisfied: certifi>=2017.4.17 in d:\\anaconda3\\lib\\site-packages (from requests>=2.31->yfinance) (2024.2.2)\n"
     ]
    },
    {
     "name": "stderr",
     "output_type": "stream",
     "text": [
      "\n",
      "[notice] A new release of pip is available: 24.0 -> 24.2\n",
      "[notice] To update, run: python.exe -m pip install --upgrade pip\n"
     ]
    }
   ],
   "source": [
    "!pip install yfinance"
   ]
  },
  {
   "cell_type": "code",
   "execution_count": 13,
   "metadata": {},
   "outputs": [
    {
     "name": "stdout",
     "output_type": "stream",
     "text": [
      "[*********************100%%**********************]  1 of 1 completed\n"
     ]
    },
    {
     "data": {
      "text/html": [
       "<div>\n",
       "<style scoped>\n",
       "    .dataframe tbody tr th:only-of-type {\n",
       "        vertical-align: middle;\n",
       "    }\n",
       "\n",
       "    .dataframe tbody tr th {\n",
       "        vertical-align: top;\n",
       "    }\n",
       "\n",
       "    .dataframe thead th {\n",
       "        text-align: right;\n",
       "    }\n",
       "</style>\n",
       "<table border=\"1\" class=\"dataframe\">\n",
       "  <thead>\n",
       "    <tr style=\"text-align: right;\">\n",
       "      <th></th>\n",
       "      <th>Open</th>\n",
       "      <th>High</th>\n",
       "      <th>Low</th>\n",
       "      <th>Close</th>\n",
       "      <th>Adj Close</th>\n",
       "      <th>Volume</th>\n",
       "    </tr>\n",
       "    <tr>\n",
       "      <th>Date</th>\n",
       "      <th></th>\n",
       "      <th></th>\n",
       "      <th></th>\n",
       "      <th></th>\n",
       "      <th></th>\n",
       "      <th></th>\n",
       "    </tr>\n",
       "  </thead>\n",
       "  <tbody>\n",
       "    <tr>\n",
       "      <th>2024-03-01</th>\n",
       "      <td>81.970001</td>\n",
       "      <td>84.349998</td>\n",
       "      <td>81.809998</td>\n",
       "      <td>83.550003</td>\n",
       "      <td>83.550003</td>\n",
       "      <td>30885</td>\n",
       "    </tr>\n",
       "    <tr>\n",
       "      <th>2024-03-04</th>\n",
       "      <td>83.589996</td>\n",
       "      <td>84.070000</td>\n",
       "      <td>82.580002</td>\n",
       "      <td>82.800003</td>\n",
       "      <td>82.800003</td>\n",
       "      <td>26396</td>\n",
       "    </tr>\n",
       "    <tr>\n",
       "      <th>2024-03-05</th>\n",
       "      <td>82.970001</td>\n",
       "      <td>83.139999</td>\n",
       "      <td>81.730003</td>\n",
       "      <td>82.040001</td>\n",
       "      <td>82.040001</td>\n",
       "      <td>37442</td>\n",
       "    </tr>\n",
       "    <tr>\n",
       "      <th>2024-03-06</th>\n",
       "      <td>82.080002</td>\n",
       "      <td>84.059998</td>\n",
       "      <td>81.889999</td>\n",
       "      <td>82.959999</td>\n",
       "      <td>82.959999</td>\n",
       "      <td>35173</td>\n",
       "    </tr>\n",
       "    <tr>\n",
       "      <th>2024-03-07</th>\n",
       "      <td>82.839996</td>\n",
       "      <td>83.470001</td>\n",
       "      <td>82.070000</td>\n",
       "      <td>82.959999</td>\n",
       "      <td>82.959999</td>\n",
       "      <td>32447</td>\n",
       "    </tr>\n",
       "    <tr>\n",
       "      <th>...</th>\n",
       "      <td>...</td>\n",
       "      <td>...</td>\n",
       "      <td>...</td>\n",
       "      <td>...</td>\n",
       "      <td>...</td>\n",
       "      <td>...</td>\n",
       "    </tr>\n",
       "    <tr>\n",
       "      <th>2024-10-02</th>\n",
       "      <td>74.400002</td>\n",
       "      <td>76.129997</td>\n",
       "      <td>73.589996</td>\n",
       "      <td>73.900002</td>\n",
       "      <td>73.900002</td>\n",
       "      <td>53911</td>\n",
       "    </tr>\n",
       "    <tr>\n",
       "      <th>2024-10-03</th>\n",
       "      <td>74.730003</td>\n",
       "      <td>77.970001</td>\n",
       "      <td>74.309998</td>\n",
       "      <td>77.620003</td>\n",
       "      <td>77.620003</td>\n",
       "      <td>68997</td>\n",
       "    </tr>\n",
       "    <tr>\n",
       "      <th>2024-10-04</th>\n",
       "      <td>77.989998</td>\n",
       "      <td>79.300003</td>\n",
       "      <td>77.389999</td>\n",
       "      <td>78.050003</td>\n",
       "      <td>78.050003</td>\n",
       "      <td>57481</td>\n",
       "    </tr>\n",
       "    <tr>\n",
       "      <th>2024-10-07</th>\n",
       "      <td>78.010002</td>\n",
       "      <td>81.160004</td>\n",
       "      <td>77.260002</td>\n",
       "      <td>80.930000</td>\n",
       "      <td>80.930000</td>\n",
       "      <td>57481</td>\n",
       "    </tr>\n",
       "    <tr>\n",
       "      <th>2024-10-08</th>\n",
       "      <td>81.160004</td>\n",
       "      <td>82.080002</td>\n",
       "      <td>78.919998</td>\n",
       "      <td>79.279999</td>\n",
       "      <td>79.279999</td>\n",
       "      <td>8719</td>\n",
       "    </tr>\n",
       "  </tbody>\n",
       "</table>\n",
       "<p>153 rows × 6 columns</p>\n",
       "</div>"
      ],
      "text/plain": [
       "                 Open       High        Low      Close  Adj Close  Volume\n",
       "Date                                                                     \n",
       "2024-03-01  81.970001  84.349998  81.809998  83.550003  83.550003   30885\n",
       "2024-03-04  83.589996  84.070000  82.580002  82.800003  82.800003   26396\n",
       "2024-03-05  82.970001  83.139999  81.730003  82.040001  82.040001   37442\n",
       "2024-03-06  82.080002  84.059998  81.889999  82.959999  82.959999   35173\n",
       "2024-03-07  82.839996  83.470001  82.070000  82.959999  82.959999   32447\n",
       "...               ...        ...        ...        ...        ...     ...\n",
       "2024-10-02  74.400002  76.129997  73.589996  73.900002  73.900002   53911\n",
       "2024-10-03  74.730003  77.970001  74.309998  77.620003  77.620003   68997\n",
       "2024-10-04  77.989998  79.300003  77.389999  78.050003  78.050003   57481\n",
       "2024-10-07  78.010002  81.160004  77.260002  80.930000  80.930000   57481\n",
       "2024-10-08  81.160004  82.080002  78.919998  79.279999  79.279999    8719\n",
       "\n",
       "[153 rows x 6 columns]"
      ]
     },
     "execution_count": 13,
     "metadata": {},
     "output_type": "execute_result"
    }
   ],
   "source": [
    "import pandas\n",
    "from pandas_datareader import data as pdr\n",
    "import yfinance as yfin\n",
    "yfin.pdr_override()\n",
    "\n",
    "import datetime\n",
    "stock_symbol='BZ=F'\n",
    "start=datetime.datetime(2024,3,1)\n",
    "\n",
    "df_brent = pdr.get_data_yahoo(stock_symbol, start=start)\n",
    "df_brent "
   ]
  },
  {
   "cell_type": "code",
   "execution_count": 14,
   "metadata": {},
   "outputs": [
    {
     "name": "stdout",
     "output_type": "stream",
     "text": [
      "ADF Statistic: -1.539264\n",
      "p-value: 0.514006\n",
      "series is non-stationary\n"
     ]
    }
   ],
   "source": [
    "from statsmodels.tsa.stattools import adfuller\n",
    "X = df_brent[\"Close\"]\n",
    "result = adfuller(X)\n",
    "print('ADF Statistic: %f' % result[0])\n",
    "print('p-value: %f' % result[1])\n",
    "print('series is stationary') if result[1] < 0.05 else print('series is non-stationary')"
   ]
  },
  {
   "cell_type": "markdown",
   "metadata": {},
   "source": [
    "# Transformation to make your time series stationary!\n",
    "ref: https://www.youtube.com/watch?v=1c_QpeLlcjg\n",
    "\n",
    "* Differecing: today - yesterday or today/yesterday using .shift(1) or .shift(p)\n",
    "* Rolling averages: today - moving average using .rolling(window = 20).mean()\n",
    "* Transformation: transformation(today) using: \n",
    "    * np.log() - logarithimc transformaiton\n",
    "    * np.sqrt() - square root transformation\n",
    "    * np.cbrt() - cube root transformation\n",
    "    \n",
    "After the transformation, one should __test for stationarity of the time series again__.\n",
    "\n",
    "Note that __stationarity is necessary for ARIMA and ARIMA based models__ like the whole GARCH family, for example DCC-GARCH (Dynamic Conditional Correlation GARCH Model).\n",
    "\n",
    "On the other hand, __stationarity is not necessary for Long short-term memory (LSTM)__ models, as LSTM is an artificial neural network model which can deal with complex trends natively. \n"
   ]
  },
  {
   "cell_type": "code",
   "execution_count": 15,
   "metadata": {},
   "outputs": [
    {
     "name": "stdout",
     "output_type": "stream",
     "text": [
      "ADF Statistic: -11.469886\n",
      "p-value: 0.000000\n",
      "series is stationary\n"
     ]
    }
   ],
   "source": [
    "from statsmodels.tsa.stattools import adfuller\n",
    "X = df_brent[\"Close\"]/df_brent[\"Close\"].shift(1)\n",
    "X = X.dropna()\n",
    "result = adfuller(X)\n",
    "print('ADF Statistic: %f' % result[0])\n",
    "print('p-value: %f' % result[1])\n",
    "print('series is stationary') if result[1] < 0.05 else print('series is non-stationary')"
   ]
  },
  {
   "cell_type": "markdown",
   "metadata": {},
   "source": [
    "### Test for autocorrelation\n",
    "\n",
    "We will use the Durbin-Watson test for autocorrelation.  The Durbin-Watson statistic ranges in value from 0 to 4. A value near 2 indicates non-autocorrelation; a value toward 0 indicates positive autocorrelation; a value toward 4 indicates negative autocorrelation.\n",
    "\n",
    "\n",
    "The Hypotheses for the Durbin Watson test are:\n",
    "H0 = no first order autocorrelation.\n",
    "H1 = first order correlation exists.\n",
    "(For a first order correlation, the lag is one time unit).\n",
    "Assumptions are:\n",
    "\n",
    "\n",
    "The Durbin Watson test reports a test statistic, with a value from 0 to 4, where:\n",
    "\n",
    "* 1.5 to 2.5 is no autocorrelation.\n",
    "* 0 to <1.5 is positive autocorrelation (common in time series data).\n",
    "* \\>2.5 to 4 is negative autocorrelation (less common in time series data)."
   ]
  },
  {
   "cell_type": "code",
   "execution_count": 16,
   "metadata": {},
   "outputs": [
    {
     "data": {
      "text/plain": [
       "0.0002489451679677676"
      ]
     },
     "execution_count": 16,
     "metadata": {},
     "output_type": "execute_result"
    }
   ],
   "source": [
    "from statsmodels.stats.stattools import durbin_watson\n",
    "durbin_watson(df_brent[\"Close\"])"
   ]
  },
  {
   "cell_type": "markdown",
   "metadata": {},
   "source": [
    "We OK to go as autocorrelation exists!\n",
    "\n",
    "Autocorrelation is necessary when using univariate time series forecasting, __if autocorrelation does not exist__ we need to __introduce exogenous variables__ and perform multivariate time series analysis. Although some techiniques have been generalised to be multivariate, without doubt, __LSTM and related techiniques are the most frequent in this case__. We will see LSTM next VC ;-)  "
   ]
  },
  {
   "cell_type": "code",
   "execution_count": null,
   "metadata": {},
   "outputs": [],
   "source": []
  },
  {
   "cell_type": "code",
   "execution_count": null,
   "metadata": {},
   "outputs": [],
   "source": []
  },
  {
   "cell_type": "code",
   "execution_count": 17,
   "metadata": {},
   "outputs": [],
   "source": [
    "df_brent[\"return\"] = df_brent[\"Close\"]/df_brent[\"Close\"].shift(1)\n",
    "df_brent = df_brent.dropna()"
   ]
  },
  {
   "cell_type": "code",
   "execution_count": 18,
   "metadata": {},
   "outputs": [
    {
     "data": {
      "text/plain": [
       "(datetime.datetime(2024, 3, 1, 0, 0), 143)"
      ]
     },
     "execution_count": 18,
     "metadata": {},
     "output_type": "execute_result"
    }
   ],
   "source": [
    "start, end"
   ]
  },
  {
   "cell_type": "code",
   "execution_count": 19,
   "metadata": {},
   "outputs": [
    {
     "data": {
      "text/html": [
       "<div>\n",
       "<style scoped>\n",
       "    .dataframe tbody tr th:only-of-type {\n",
       "        vertical-align: middle;\n",
       "    }\n",
       "\n",
       "    .dataframe tbody tr th {\n",
       "        vertical-align: top;\n",
       "    }\n",
       "\n",
       "    .dataframe thead th {\n",
       "        text-align: right;\n",
       "    }\n",
       "</style>\n",
       "<table border=\"1\" class=\"dataframe\">\n",
       "  <thead>\n",
       "    <tr style=\"text-align: right;\">\n",
       "      <th></th>\n",
       "      <th>Open</th>\n",
       "      <th>High</th>\n",
       "      <th>Low</th>\n",
       "      <th>Close</th>\n",
       "      <th>Adj Close</th>\n",
       "      <th>Volume</th>\n",
       "      <th>return</th>\n",
       "    </tr>\n",
       "    <tr>\n",
       "      <th>Date</th>\n",
       "      <th></th>\n",
       "      <th></th>\n",
       "      <th></th>\n",
       "      <th></th>\n",
       "      <th></th>\n",
       "      <th></th>\n",
       "      <th></th>\n",
       "    </tr>\n",
       "  </thead>\n",
       "  <tbody>\n",
       "    <tr>\n",
       "      <th>2024-03-04</th>\n",
       "      <td>83.589996</td>\n",
       "      <td>84.070000</td>\n",
       "      <td>82.580002</td>\n",
       "      <td>82.800003</td>\n",
       "      <td>82.800003</td>\n",
       "      <td>26396</td>\n",
       "      <td>0.991023</td>\n",
       "    </tr>\n",
       "    <tr>\n",
       "      <th>2024-03-05</th>\n",
       "      <td>82.970001</td>\n",
       "      <td>83.139999</td>\n",
       "      <td>81.730003</td>\n",
       "      <td>82.040001</td>\n",
       "      <td>82.040001</td>\n",
       "      <td>37442</td>\n",
       "      <td>0.990821</td>\n",
       "    </tr>\n",
       "    <tr>\n",
       "      <th>2024-03-06</th>\n",
       "      <td>82.080002</td>\n",
       "      <td>84.059998</td>\n",
       "      <td>81.889999</td>\n",
       "      <td>82.959999</td>\n",
       "      <td>82.959999</td>\n",
       "      <td>35173</td>\n",
       "      <td>1.011214</td>\n",
       "    </tr>\n",
       "    <tr>\n",
       "      <th>2024-03-07</th>\n",
       "      <td>82.839996</td>\n",
       "      <td>83.470001</td>\n",
       "      <td>82.070000</td>\n",
       "      <td>82.959999</td>\n",
       "      <td>82.959999</td>\n",
       "      <td>32447</td>\n",
       "      <td>1.000000</td>\n",
       "    </tr>\n",
       "    <tr>\n",
       "      <th>2024-03-08</th>\n",
       "      <td>83.339996</td>\n",
       "      <td>83.839996</td>\n",
       "      <td>81.709999</td>\n",
       "      <td>82.080002</td>\n",
       "      <td>82.080002</td>\n",
       "      <td>26605</td>\n",
       "      <td>0.989393</td>\n",
       "    </tr>\n",
       "    <tr>\n",
       "      <th>...</th>\n",
       "      <td>...</td>\n",
       "      <td>...</td>\n",
       "      <td>...</td>\n",
       "      <td>...</td>\n",
       "      <td>...</td>\n",
       "      <td>...</td>\n",
       "      <td>...</td>\n",
       "    </tr>\n",
       "    <tr>\n",
       "      <th>2024-10-02</th>\n",
       "      <td>74.400002</td>\n",
       "      <td>76.129997</td>\n",
       "      <td>73.589996</td>\n",
       "      <td>73.900002</td>\n",
       "      <td>73.900002</td>\n",
       "      <td>53911</td>\n",
       "      <td>1.004622</td>\n",
       "    </tr>\n",
       "    <tr>\n",
       "      <th>2024-10-03</th>\n",
       "      <td>74.730003</td>\n",
       "      <td>77.970001</td>\n",
       "      <td>74.309998</td>\n",
       "      <td>77.620003</td>\n",
       "      <td>77.620003</td>\n",
       "      <td>68997</td>\n",
       "      <td>1.050338</td>\n",
       "    </tr>\n",
       "    <tr>\n",
       "      <th>2024-10-04</th>\n",
       "      <td>77.989998</td>\n",
       "      <td>79.300003</td>\n",
       "      <td>77.389999</td>\n",
       "      <td>78.050003</td>\n",
       "      <td>78.050003</td>\n",
       "      <td>57481</td>\n",
       "      <td>1.005540</td>\n",
       "    </tr>\n",
       "    <tr>\n",
       "      <th>2024-10-07</th>\n",
       "      <td>78.010002</td>\n",
       "      <td>81.160004</td>\n",
       "      <td>77.260002</td>\n",
       "      <td>80.930000</td>\n",
       "      <td>80.930000</td>\n",
       "      <td>57481</td>\n",
       "      <td>1.036899</td>\n",
       "    </tr>\n",
       "    <tr>\n",
       "      <th>2024-10-08</th>\n",
       "      <td>81.160004</td>\n",
       "      <td>82.080002</td>\n",
       "      <td>78.919998</td>\n",
       "      <td>79.279999</td>\n",
       "      <td>79.279999</td>\n",
       "      <td>8719</td>\n",
       "      <td>0.979612</td>\n",
       "    </tr>\n",
       "  </tbody>\n",
       "</table>\n",
       "<p>152 rows × 7 columns</p>\n",
       "</div>"
      ],
      "text/plain": [
       "                 Open       High        Low      Close  Adj Close  Volume  \\\n",
       "Date                                                                        \n",
       "2024-03-04  83.589996  84.070000  82.580002  82.800003  82.800003   26396   \n",
       "2024-03-05  82.970001  83.139999  81.730003  82.040001  82.040001   37442   \n",
       "2024-03-06  82.080002  84.059998  81.889999  82.959999  82.959999   35173   \n",
       "2024-03-07  82.839996  83.470001  82.070000  82.959999  82.959999   32447   \n",
       "2024-03-08  83.339996  83.839996  81.709999  82.080002  82.080002   26605   \n",
       "...               ...        ...        ...        ...        ...     ...   \n",
       "2024-10-02  74.400002  76.129997  73.589996  73.900002  73.900002   53911   \n",
       "2024-10-03  74.730003  77.970001  74.309998  77.620003  77.620003   68997   \n",
       "2024-10-04  77.989998  79.300003  77.389999  78.050003  78.050003   57481   \n",
       "2024-10-07  78.010002  81.160004  77.260002  80.930000  80.930000   57481   \n",
       "2024-10-08  81.160004  82.080002  78.919998  79.279999  79.279999    8719   \n",
       "\n",
       "              return  \n",
       "Date                  \n",
       "2024-03-04  0.991023  \n",
       "2024-03-05  0.990821  \n",
       "2024-03-06  1.011214  \n",
       "2024-03-07  1.000000  \n",
       "2024-03-08  0.989393  \n",
       "...              ...  \n",
       "2024-10-02  1.004622  \n",
       "2024-10-03  1.050338  \n",
       "2024-10-04  1.005540  \n",
       "2024-10-07  1.036899  \n",
       "2024-10-08  0.979612  \n",
       "\n",
       "[152 rows x 7 columns]"
      ]
     },
     "execution_count": 19,
     "metadata": {},
     "output_type": "execute_result"
    }
   ],
   "source": [
    "df_brent"
   ]
  },
  {
   "cell_type": "markdown",
   "metadata": {},
   "source": [
    "### Auto Regressive Model using ARIMA from statsmodels\n",
    "\n",
    "To create our moving average model we shall use ARIMA from statsmodels. This is a composite of an autoregressive model, AR(p), an integration model, I(d), and a moving average model, MA(q), which is passed via the tuple order(p,d,q). Here we shall use again a window of p=1:"
   ]
  },
  {
   "cell_type": "code",
   "execution_count": 20,
   "metadata": {},
   "outputs": [
    {
     "name": "stdout",
     "output_type": "stream",
     "text": [
      "                               SARIMAX Results                                \n",
      "==============================================================================\n",
      "Dep. Variable:                 return   No. Observations:                  152\n",
      "Model:                 ARIMA(1, 0, 0)   Log Likelihood                 411.181\n",
      "Date:                Tue, 08 Oct 2024   AIC                           -816.363\n",
      "Time:                        11:18:18   BIC                           -807.291\n",
      "Sample:                             0   HQIC                          -812.677\n",
      "                                - 152                                         \n",
      "Covariance Type:                  opg                                         \n",
      "==============================================================================\n",
      "                 coef    std err          z      P>|z|      [0.025      0.975]\n",
      "------------------------------------------------------------------------------\n",
      "const          0.9998      0.001    701.761      0.000       0.997       1.003\n",
      "ar.L1          0.0580      0.097      0.597      0.550      -0.132       0.248\n",
      "sigma2         0.0003    2.4e-05     10.915      0.000       0.000       0.000\n",
      "===================================================================================\n",
      "Ljung-Box (L1) (Q):                   0.00   Jarque-Bera (JB):                18.82\n",
      "Prob(Q):                              0.98   Prob(JB):                         0.00\n",
      "Heteroskedasticity (H):               2.87   Skew:                            -0.40\n",
      "Prob(H) (two-sided):                  0.00   Kurtosis:                         4.53\n",
      "===================================================================================\n",
      "\n",
      "Warnings:\n",
      "[1] Covariance matrix calculated using the outer product of gradients (complex-step).\n"
     ]
    },
    {
     "name": "stderr",
     "output_type": "stream",
     "text": [
      "D:\\Anaconda3\\Lib\\site-packages\\statsmodels\\tsa\\base\\tsa_model.py:473: ValueWarning: A date index has been provided, but it has no associated frequency information and so will be ignored when e.g. forecasting.\n",
      "  self._init_dates(dates, freq)\n",
      "D:\\Anaconda3\\Lib\\site-packages\\statsmodels\\tsa\\base\\tsa_model.py:473: ValueWarning: A date index has been provided, but it has no associated frequency information and so will be ignored when e.g. forecasting.\n",
      "  self._init_dates(dates, freq)\n",
      "D:\\Anaconda3\\Lib\\site-packages\\statsmodels\\tsa\\base\\tsa_model.py:473: ValueWarning: A date index has been provided, but it has no associated frequency information and so will be ignored when e.g. forecasting.\n",
      "  self._init_dates(dates, freq)\n"
     ]
    }
   ],
   "source": [
    "from statsmodels.tsa.arima.model import ARIMA\n",
    "ARMA_model = ARIMA(endog=df_brent['return'], order=(1, 0, 0))\n",
    "results = ARMA_model.fit()\n",
    "print(results.summary())"
   ]
  },
  {
   "cell_type": "code",
   "execution_count": 21,
   "metadata": {},
   "outputs": [
    {
     "data": {
      "text/html": [
       "<div>\n",
       "<style scoped>\n",
       "    .dataframe tbody tr th:only-of-type {\n",
       "        vertical-align: middle;\n",
       "    }\n",
       "\n",
       "    .dataframe tbody tr th {\n",
       "        vertical-align: top;\n",
       "    }\n",
       "\n",
       "    .dataframe thead th {\n",
       "        text-align: right;\n",
       "    }\n",
       "</style>\n",
       "<table border=\"1\" class=\"dataframe\">\n",
       "  <thead>\n",
       "    <tr style=\"text-align: right;\">\n",
       "      <th></th>\n",
       "      <th>Open</th>\n",
       "      <th>High</th>\n",
       "      <th>Low</th>\n",
       "      <th>Close</th>\n",
       "      <th>Adj Close</th>\n",
       "      <th>Volume</th>\n",
       "      <th>return</th>\n",
       "    </tr>\n",
       "    <tr>\n",
       "      <th>Date</th>\n",
       "      <th></th>\n",
       "      <th></th>\n",
       "      <th></th>\n",
       "      <th></th>\n",
       "      <th></th>\n",
       "      <th></th>\n",
       "      <th></th>\n",
       "    </tr>\n",
       "  </thead>\n",
       "  <tbody>\n",
       "    <tr>\n",
       "      <th>2024-03-04</th>\n",
       "      <td>83.589996</td>\n",
       "      <td>84.070000</td>\n",
       "      <td>82.580002</td>\n",
       "      <td>82.800003</td>\n",
       "      <td>82.800003</td>\n",
       "      <td>26396</td>\n",
       "      <td>0.991023</td>\n",
       "    </tr>\n",
       "    <tr>\n",
       "      <th>2024-03-05</th>\n",
       "      <td>82.970001</td>\n",
       "      <td>83.139999</td>\n",
       "      <td>81.730003</td>\n",
       "      <td>82.040001</td>\n",
       "      <td>82.040001</td>\n",
       "      <td>37442</td>\n",
       "      <td>0.990821</td>\n",
       "    </tr>\n",
       "    <tr>\n",
       "      <th>2024-03-06</th>\n",
       "      <td>82.080002</td>\n",
       "      <td>84.059998</td>\n",
       "      <td>81.889999</td>\n",
       "      <td>82.959999</td>\n",
       "      <td>82.959999</td>\n",
       "      <td>35173</td>\n",
       "      <td>1.011214</td>\n",
       "    </tr>\n",
       "    <tr>\n",
       "      <th>2024-03-07</th>\n",
       "      <td>82.839996</td>\n",
       "      <td>83.470001</td>\n",
       "      <td>82.070000</td>\n",
       "      <td>82.959999</td>\n",
       "      <td>82.959999</td>\n",
       "      <td>32447</td>\n",
       "      <td>1.000000</td>\n",
       "    </tr>\n",
       "    <tr>\n",
       "      <th>2024-03-08</th>\n",
       "      <td>83.339996</td>\n",
       "      <td>83.839996</td>\n",
       "      <td>81.709999</td>\n",
       "      <td>82.080002</td>\n",
       "      <td>82.080002</td>\n",
       "      <td>26605</td>\n",
       "      <td>0.989393</td>\n",
       "    </tr>\n",
       "    <tr>\n",
       "      <th>...</th>\n",
       "      <td>...</td>\n",
       "      <td>...</td>\n",
       "      <td>...</td>\n",
       "      <td>...</td>\n",
       "      <td>...</td>\n",
       "      <td>...</td>\n",
       "      <td>...</td>\n",
       "    </tr>\n",
       "    <tr>\n",
       "      <th>2024-10-02</th>\n",
       "      <td>74.400002</td>\n",
       "      <td>76.129997</td>\n",
       "      <td>73.589996</td>\n",
       "      <td>73.900002</td>\n",
       "      <td>73.900002</td>\n",
       "      <td>53911</td>\n",
       "      <td>1.004622</td>\n",
       "    </tr>\n",
       "    <tr>\n",
       "      <th>2024-10-03</th>\n",
       "      <td>74.730003</td>\n",
       "      <td>77.970001</td>\n",
       "      <td>74.309998</td>\n",
       "      <td>77.620003</td>\n",
       "      <td>77.620003</td>\n",
       "      <td>68997</td>\n",
       "      <td>1.050338</td>\n",
       "    </tr>\n",
       "    <tr>\n",
       "      <th>2024-10-04</th>\n",
       "      <td>77.989998</td>\n",
       "      <td>79.300003</td>\n",
       "      <td>77.389999</td>\n",
       "      <td>78.050003</td>\n",
       "      <td>78.050003</td>\n",
       "      <td>57481</td>\n",
       "      <td>1.005540</td>\n",
       "    </tr>\n",
       "    <tr>\n",
       "      <th>2024-10-07</th>\n",
       "      <td>78.010002</td>\n",
       "      <td>81.160004</td>\n",
       "      <td>77.260002</td>\n",
       "      <td>80.930000</td>\n",
       "      <td>80.930000</td>\n",
       "      <td>57481</td>\n",
       "      <td>1.036899</td>\n",
       "    </tr>\n",
       "    <tr>\n",
       "      <th>2024-10-08</th>\n",
       "      <td>81.160004</td>\n",
       "      <td>82.080002</td>\n",
       "      <td>78.919998</td>\n",
       "      <td>79.279999</td>\n",
       "      <td>79.279999</td>\n",
       "      <td>8719</td>\n",
       "      <td>0.979612</td>\n",
       "    </tr>\n",
       "  </tbody>\n",
       "</table>\n",
       "<p>152 rows × 7 columns</p>\n",
       "</div>"
      ],
      "text/plain": [
       "                 Open       High        Low      Close  Adj Close  Volume  \\\n",
       "Date                                                                        \n",
       "2024-03-04  83.589996  84.070000  82.580002  82.800003  82.800003   26396   \n",
       "2024-03-05  82.970001  83.139999  81.730003  82.040001  82.040001   37442   \n",
       "2024-03-06  82.080002  84.059998  81.889999  82.959999  82.959999   35173   \n",
       "2024-03-07  82.839996  83.470001  82.070000  82.959999  82.959999   32447   \n",
       "2024-03-08  83.339996  83.839996  81.709999  82.080002  82.080002   26605   \n",
       "...               ...        ...        ...        ...        ...     ...   \n",
       "2024-10-02  74.400002  76.129997  73.589996  73.900002  73.900002   53911   \n",
       "2024-10-03  74.730003  77.970001  74.309998  77.620003  77.620003   68997   \n",
       "2024-10-04  77.989998  79.300003  77.389999  78.050003  78.050003   57481   \n",
       "2024-10-07  78.010002  81.160004  77.260002  80.930000  80.930000   57481   \n",
       "2024-10-08  81.160004  82.080002  78.919998  79.279999  79.279999    8719   \n",
       "\n",
       "              return  \n",
       "Date                  \n",
       "2024-03-04  0.991023  \n",
       "2024-03-05  0.990821  \n",
       "2024-03-06  1.011214  \n",
       "2024-03-07  1.000000  \n",
       "2024-03-08  0.989393  \n",
       "...              ...  \n",
       "2024-10-02  1.004622  \n",
       "2024-10-03  1.050338  \n",
       "2024-10-04  1.005540  \n",
       "2024-10-07  1.036899  \n",
       "2024-10-08  0.979612  \n",
       "\n",
       "[152 rows x 7 columns]"
      ]
     },
     "execution_count": 21,
     "metadata": {},
     "output_type": "execute_result"
    }
   ],
   "source": [
    "df_brent"
   ]
  },
  {
   "cell_type": "code",
   "execution_count": 22,
   "metadata": {},
   "outputs": [
    {
     "name": "stderr",
     "output_type": "stream",
     "text": [
      "C:\\Users\\manoe\\AppData\\Local\\Temp\\ipykernel_540\\1432910133.py:3: SettingWithCopyWarning: \n",
      "A value is trying to be set on a copy of a slice from a DataFrame.\n",
      "Try using .loc[row_indexer,col_indexer] = value instead\n",
      "\n",
      "See the caveats in the documentation: https://pandas.pydata.org/pandas-docs/stable/user_guide/indexing.html#returning-a-view-versus-a-copy\n",
      "  df_brent['forecast_ar1'] = results.predict(start=start_date)\n"
     ]
    }
   ],
   "source": [
    "start_date = '2024-03-04'\n",
    "end_date   = '2024-10-08'\n",
    "df_brent['forecast_ar1'] = results.predict(start=start_date)\n"
   ]
  },
  {
   "cell_type": "code",
   "execution_count": 23,
   "metadata": {},
   "outputs": [
    {
     "data": {
      "text/html": [
       "<div>\n",
       "<style scoped>\n",
       "    .dataframe tbody tr th:only-of-type {\n",
       "        vertical-align: middle;\n",
       "    }\n",
       "\n",
       "    .dataframe tbody tr th {\n",
       "        vertical-align: top;\n",
       "    }\n",
       "\n",
       "    .dataframe thead th {\n",
       "        text-align: right;\n",
       "    }\n",
       "</style>\n",
       "<table border=\"1\" class=\"dataframe\">\n",
       "  <thead>\n",
       "    <tr style=\"text-align: right;\">\n",
       "      <th></th>\n",
       "      <th>return</th>\n",
       "      <th>forecast_ar1</th>\n",
       "    </tr>\n",
       "    <tr>\n",
       "      <th>Date</th>\n",
       "      <th></th>\n",
       "      <th></th>\n",
       "    </tr>\n",
       "  </thead>\n",
       "  <tbody>\n",
       "    <tr>\n",
       "      <th>2024-05-16</th>\n",
       "      <td>1.006284</td>\n",
       "      <td>1.000047</td>\n",
       "    </tr>\n",
       "    <tr>\n",
       "      <th>2024-05-17</th>\n",
       "      <td>1.008527</td>\n",
       "      <td>1.000151</td>\n",
       "    </tr>\n",
       "    <tr>\n",
       "      <th>2024-05-20</th>\n",
       "      <td>0.996785</td>\n",
       "      <td>1.000281</td>\n",
       "    </tr>\n",
       "    <tr>\n",
       "      <th>2024-05-21</th>\n",
       "      <td>0.990085</td>\n",
       "      <td>0.999600</td>\n",
       "    </tr>\n",
       "    <tr>\n",
       "      <th>2024-05-22</th>\n",
       "      <td>0.988176</td>\n",
       "      <td>0.999211</td>\n",
       "    </tr>\n",
       "    <tr>\n",
       "      <th>...</th>\n",
       "      <td>...</td>\n",
       "      <td>...</td>\n",
       "    </tr>\n",
       "    <tr>\n",
       "      <th>2024-10-02</th>\n",
       "      <td>1.004622</td>\n",
       "      <td>1.001233</td>\n",
       "    </tr>\n",
       "    <tr>\n",
       "      <th>2024-10-03</th>\n",
       "      <td>1.050338</td>\n",
       "      <td>1.000054</td>\n",
       "    </tr>\n",
       "    <tr>\n",
       "      <th>2024-10-04</th>\n",
       "      <td>1.005540</td>\n",
       "      <td>1.002706</td>\n",
       "    </tr>\n",
       "    <tr>\n",
       "      <th>2024-10-07</th>\n",
       "      <td>1.036899</td>\n",
       "      <td>1.000107</td>\n",
       "    </tr>\n",
       "    <tr>\n",
       "      <th>2024-10-08</th>\n",
       "      <td>0.979612</td>\n",
       "      <td>1.001926</td>\n",
       "    </tr>\n",
       "  </tbody>\n",
       "</table>\n",
       "<p>100 rows × 2 columns</p>\n",
       "</div>"
      ],
      "text/plain": [
       "              return  forecast_ar1\n",
       "Date                              \n",
       "2024-05-16  1.006284      1.000047\n",
       "2024-05-17  1.008527      1.000151\n",
       "2024-05-20  0.996785      1.000281\n",
       "2024-05-21  0.990085      0.999600\n",
       "2024-05-22  0.988176      0.999211\n",
       "...              ...           ...\n",
       "2024-10-02  1.004622      1.001233\n",
       "2024-10-03  1.050338      1.000054\n",
       "2024-10-04  1.005540      1.002706\n",
       "2024-10-07  1.036899      1.000107\n",
       "2024-10-08  0.979612      1.001926\n",
       "\n",
       "[100 rows x 2 columns]"
      ]
     },
     "execution_count": 23,
     "metadata": {},
     "output_type": "execute_result"
    }
   ],
   "source": [
    "df_brent[['return','forecast_ar1']].tail(100)"
   ]
  },
  {
   "cell_type": "code",
   "execution_count": 24,
   "metadata": {},
   "outputs": [
    {
     "data": {
      "image/png": "[encoded data removed]",
      "text/plain": [
       "<Figure size 640x480 with 1 Axes>"
      ]
     },
     "metadata": {},
     "output_type": "display_data"
    }
   ],
   "source": [
    "df_brent[['Close','forecast_ar1']].plot(lw=2);\n",
    "\n"
   ]
  },
  {
   "cell_type": "code",
   "execution_count": 25,
   "metadata": {},
   "outputs": [],
   "source": [
    "#from sklearn.metrics import mean_squared_error\n",
    "#error_ar1 = mean_squared_error(df_brent['return'].tail(100),df_brent['forecast_ar1'].tail(100))\n",
    "#print(f'AR(1) MSE -> {error_ar1}')\n"
   ]
  },
  {
   "cell_type": "markdown",
   "metadata": {},
   "source": [
    "Moving Average (MA) Models  - Short Memory Models\n",
    "\n",
    "In a Moving Average 1, MA(1), the forecast is calculated based on the error of the previous day.\n",
    "\n",
    "In a Moving Average q, MA(q), the forecast is calculated based on the moving average errors of the __q__ previous day.\n",
    "\n",
    "\n",
    "#### VIDEO: \n",
    "MA Models - https://www.youtube.com/watch?v=zNLG8tsA_Go"
   ]
  },
  {
   "cell_type": "markdown",
   "metadata": {},
   "source": [
    "__Rolling average__\n",
    "\n",
    "We shall now create a rolling average, with a window size of 10, using pandas.DataFrame.rolling\n"
   ]
  },
  {
   "cell_type": "code",
   "execution_count": 26,
   "metadata": {},
   "outputs": [
    {
     "name": "stderr",
     "output_type": "stream",
     "text": [
      "C:\\Users\\manoe\\AppData\\Local\\Temp\\ipykernel_540\\3286403859.py:1: SettingWithCopyWarning: \n",
      "A value is trying to be set on a copy of a slice from a DataFrame.\n",
      "Try using .loc[row_indexer,col_indexer] = value instead\n",
      "\n",
      "See the caveats in the documentation: https://pandas.pydata.org/pandas-docs/stable/user_guide/indexing.html#returning-a-view-versus-a-copy\n",
      "  df_brent['rolling_av'] = df_brent['return'].rolling(10).mean()\n"
     ]
    },
    {
     "data": {
      "image/png": "[encoded data removed]",
      "text/plain": [
       "<Figure size 640x480 with 1 Axes>"
      ]
     },
     "metadata": {},
     "output_type": "display_data"
    }
   ],
   "source": [
    "df_brent['rolling_av'] = df_brent['return'].rolling(10).mean()\n",
    "# take a look\n",
    "df_brent[['return','rolling_av']].plot(lw=2);\n",
    "\n"
   ]
  },
  {
   "cell_type": "code",
   "execution_count": 27,
   "metadata": {},
   "outputs": [
    {
     "name": "stdout",
     "output_type": "stream",
     "text": [
      "AR(1) MSE -> 0.00031545580465994845\n",
      "rolling(10) moving average MSE -> 0.0002930137553553435\n"
     ]
    }
   ],
   "source": [
    "from sklearn.metrics import mean_squared_error\n",
    "error_ar1 = mean_squared_error(df_brent['return'].tail(100),df_brent['forecast_ar1'].tail(100))\n",
    "print(f'AR(1) MSE -> {error_ar1}')\n",
    "error_rolling_av = mean_squared_error(df_brent['return'].tail(100),df_brent['rolling_av'].tail(100))\n",
    "print(f'rolling(10) moving average MSE -> {error_rolling_av}')\n"
   ]
  },
  {
   "cell_type": "markdown",
   "metadata": {},
   "source": [
    "### Moving average model\n",
    "\n",
    "To create our moving average model we shall use ARIMA from statsmodels. This is a composite of an autoregressive model, AR(p\n",
    "), an integration model, I(d), and a moving average model, MA(q), which is passed via the tuple order(p,d,q). Here we shall use again a window of q=10:"
   ]
  },
  {
   "cell_type": "code",
   "execution_count": 28,
   "metadata": {},
   "outputs": [
    {
     "name": "stderr",
     "output_type": "stream",
     "text": [
      "D:\\Anaconda3\\Lib\\site-packages\\statsmodels\\tsa\\base\\tsa_model.py:473: ValueWarning: A date index has been provided, but it has no associated frequency information and so will be ignored when e.g. forecasting.\n",
      "  self._init_dates(dates, freq)\n",
      "D:\\Anaconda3\\Lib\\site-packages\\statsmodels\\tsa\\base\\tsa_model.py:473: ValueWarning: A date index has been provided, but it has no associated frequency information and so will be ignored when e.g. forecasting.\n",
      "  self._init_dates(dates, freq)\n",
      "D:\\Anaconda3\\Lib\\site-packages\\statsmodels\\tsa\\base\\tsa_model.py:473: ValueWarning: A date index has been provided, but it has no associated frequency information and so will be ignored when e.g. forecasting.\n",
      "  self._init_dates(dates, freq)\n"
     ]
    },
    {
     "name": "stdout",
     "output_type": "stream",
     "text": [
      "                               SARIMAX Results                                \n",
      "==============================================================================\n",
      "Dep. Variable:                 return   No. Observations:                  152\n",
      "Model:                ARIMA(0, 0, 10)   Log Likelihood                 415.215\n",
      "Date:                Tue, 08 Oct 2024   AIC                           -806.430\n",
      "Time:                        11:18:20   BIC                           -770.144\n",
      "Sample:                             0   HQIC                          -791.689\n",
      "                                - 152                                         \n",
      "Covariance Type:                  opg                                         \n",
      "==============================================================================\n",
      "                 coef    std err          z      P>|z|      [0.025      0.975]\n",
      "------------------------------------------------------------------------------\n",
      "const          0.9997      0.001    776.761      0.000       0.997       1.002\n",
      "ma.L1          0.0298      0.105      0.284      0.777      -0.176       0.236\n",
      "ma.L2          0.0232      0.079      0.294      0.769      -0.131       0.178\n",
      "ma.L3          0.0515      0.083      0.617      0.537      -0.112       0.215\n",
      "ma.L4         -0.0885      0.098     -0.903      0.366      -0.281       0.104\n",
      "ma.L5         -0.0541      0.072     -0.752      0.452      -0.195       0.087\n",
      "ma.L6         -0.1875      0.106     -1.777      0.076      -0.394       0.019\n",
      "ma.L7         -0.0732      0.092     -0.794      0.427      -0.254       0.107\n",
      "ma.L8          0.0356      0.102      0.350      0.727      -0.164       0.235\n",
      "ma.L9          0.1132      0.095      1.191      0.233      -0.073       0.299\n",
      "ma.L10         0.0785      0.083      0.947      0.344      -0.084       0.241\n",
      "sigma2         0.0002   3.06e-05      8.073      0.000       0.000       0.000\n",
      "===================================================================================\n",
      "Ljung-Box (L1) (Q):                   0.00   Jarque-Bera (JB):                 9.16\n",
      "Prob(Q):                              0.97   Prob(JB):                         0.01\n",
      "Heteroskedasticity (H):               2.80   Skew:                            -0.38\n",
      "Prob(H) (two-sided):                  0.00   Kurtosis:                         3.93\n",
      "===================================================================================\n",
      "\n",
      "Warnings:\n",
      "[1] Covariance matrix calculated using the outer product of gradients (complex-step).\n"
     ]
    },
    {
     "name": "stderr",
     "output_type": "stream",
     "text": [
      "D:\\Anaconda3\\Lib\\site-packages\\statsmodels\\base\\model.py:607: ConvergenceWarning: Maximum Likelihood optimization failed to converge. Check mle_retvals\n",
      "  warnings.warn(\"Maximum Likelihood optimization failed to \"\n"
     ]
    }
   ],
   "source": [
    "from statsmodels.tsa.arima.model import ARIMA\n",
    "ARMA_model = ARIMA(endog=df_brent['return'], order=(0, 0, 10))\n",
    "results = ARMA_model.fit()\n",
    "print(results.summary())"
   ]
  },
  {
   "cell_type": "code",
   "execution_count": 29,
   "metadata": {},
   "outputs": [
    {
     "data": {
      "text/html": [
       "<div>\n",
       "<style scoped>\n",
       "    .dataframe tbody tr th:only-of-type {\n",
       "        vertical-align: middle;\n",
       "    }\n",
       "\n",
       "    .dataframe tbody tr th {\n",
       "        vertical-align: top;\n",
       "    }\n",
       "\n",
       "    .dataframe thead th {\n",
       "        text-align: right;\n",
       "    }\n",
       "</style>\n",
       "<table border=\"1\" class=\"dataframe\">\n",
       "  <thead>\n",
       "    <tr style=\"text-align: right;\">\n",
       "      <th></th>\n",
       "      <th>Open</th>\n",
       "      <th>High</th>\n",
       "      <th>Low</th>\n",
       "      <th>Close</th>\n",
       "      <th>Adj Close</th>\n",
       "      <th>Volume</th>\n",
       "      <th>return</th>\n",
       "      <th>forecast_ar1</th>\n",
       "      <th>rolling_av</th>\n",
       "    </tr>\n",
       "    <tr>\n",
       "      <th>Date</th>\n",
       "      <th></th>\n",
       "      <th></th>\n",
       "      <th></th>\n",
       "      <th></th>\n",
       "      <th></th>\n",
       "      <th></th>\n",
       "      <th></th>\n",
       "      <th></th>\n",
       "      <th></th>\n",
       "    </tr>\n",
       "  </thead>\n",
       "  <tbody>\n",
       "    <tr>\n",
       "      <th>2024-03-04</th>\n",
       "      <td>83.589996</td>\n",
       "      <td>84.070000</td>\n",
       "      <td>82.580002</td>\n",
       "      <td>82.800003</td>\n",
       "      <td>82.800003</td>\n",
       "      <td>26396</td>\n",
       "      <td>0.991023</td>\n",
       "      <td>0.999773</td>\n",
       "      <td>NaN</td>\n",
       "    </tr>\n",
       "    <tr>\n",
       "      <th>2024-03-05</th>\n",
       "      <td>82.970001</td>\n",
       "      <td>83.139999</td>\n",
       "      <td>81.730003</td>\n",
       "      <td>82.040001</td>\n",
       "      <td>82.040001</td>\n",
       "      <td>37442</td>\n",
       "      <td>0.990821</td>\n",
       "      <td>0.999265</td>\n",
       "      <td>NaN</td>\n",
       "    </tr>\n",
       "    <tr>\n",
       "      <th>2024-03-06</th>\n",
       "      <td>82.080002</td>\n",
       "      <td>84.059998</td>\n",
       "      <td>81.889999</td>\n",
       "      <td>82.959999</td>\n",
       "      <td>82.959999</td>\n",
       "      <td>35173</td>\n",
       "      <td>1.011214</td>\n",
       "      <td>0.999254</td>\n",
       "      <td>NaN</td>\n",
       "    </tr>\n",
       "    <tr>\n",
       "      <th>2024-03-07</th>\n",
       "      <td>82.839996</td>\n",
       "      <td>83.470001</td>\n",
       "      <td>82.070000</td>\n",
       "      <td>82.959999</td>\n",
       "      <td>82.959999</td>\n",
       "      <td>32447</td>\n",
       "      <td>1.000000</td>\n",
       "      <td>1.000436</td>\n",
       "      <td>NaN</td>\n",
       "    </tr>\n",
       "    <tr>\n",
       "      <th>2024-03-08</th>\n",
       "      <td>83.339996</td>\n",
       "      <td>83.839996</td>\n",
       "      <td>81.709999</td>\n",
       "      <td>82.080002</td>\n",
       "      <td>82.080002</td>\n",
       "      <td>26605</td>\n",
       "      <td>0.989393</td>\n",
       "      <td>0.999786</td>\n",
       "      <td>NaN</td>\n",
       "    </tr>\n",
       "    <tr>\n",
       "      <th>...</th>\n",
       "      <td>...</td>\n",
       "      <td>...</td>\n",
       "      <td>...</td>\n",
       "      <td>...</td>\n",
       "      <td>...</td>\n",
       "      <td>...</td>\n",
       "      <td>...</td>\n",
       "      <td>...</td>\n",
       "      <td>...</td>\n",
       "    </tr>\n",
       "    <tr>\n",
       "      <th>2024-10-02</th>\n",
       "      <td>74.400002</td>\n",
       "      <td>76.129997</td>\n",
       "      <td>73.589996</td>\n",
       "      <td>73.900002</td>\n",
       "      <td>73.900002</td>\n",
       "      <td>53911</td>\n",
       "      <td>1.004622</td>\n",
       "      <td>1.001233</td>\n",
       "      <td>1.000464</td>\n",
       "    </tr>\n",
       "    <tr>\n",
       "      <th>2024-10-03</th>\n",
       "      <td>74.730003</td>\n",
       "      <td>77.970001</td>\n",
       "      <td>74.309998</td>\n",
       "      <td>77.620003</td>\n",
       "      <td>77.620003</td>\n",
       "      <td>68997</td>\n",
       "      <td>1.050338</td>\n",
       "      <td>1.000054</td>\n",
       "      <td>1.003828</td>\n",
       "    </tr>\n",
       "    <tr>\n",
       "      <th>2024-10-04</th>\n",
       "      <td>77.989998</td>\n",
       "      <td>79.300003</td>\n",
       "      <td>77.389999</td>\n",
       "      <td>78.050003</td>\n",
       "      <td>78.050003</td>\n",
       "      <td>57481</td>\n",
       "      <td>1.005540</td>\n",
       "      <td>1.002706</td>\n",
       "      <td>1.004903</td>\n",
       "    </tr>\n",
       "    <tr>\n",
       "      <th>2024-10-07</th>\n",
       "      <td>78.010002</td>\n",
       "      <td>81.160004</td>\n",
       "      <td>77.260002</td>\n",
       "      <td>80.930000</td>\n",
       "      <td>80.930000</td>\n",
       "      <td>57481</td>\n",
       "      <td>1.036899</td>\n",
       "      <td>1.000107</td>\n",
       "      <td>1.009385</td>\n",
       "    </tr>\n",
       "    <tr>\n",
       "      <th>2024-10-08</th>\n",
       "      <td>81.160004</td>\n",
       "      <td>82.080002</td>\n",
       "      <td>78.919998</td>\n",
       "      <td>79.279999</td>\n",
       "      <td>79.279999</td>\n",
       "      <td>8719</td>\n",
       "      <td>0.979612</td>\n",
       "      <td>1.001926</td>\n",
       "      <td>1.005627</td>\n",
       "    </tr>\n",
       "  </tbody>\n",
       "</table>\n",
       "<p>152 rows × 9 columns</p>\n",
       "</div>"
      ],
      "text/plain": [
       "                 Open       High        Low      Close  Adj Close  Volume  \\\n",
       "Date                                                                        \n",
       "2024-03-04  83.589996  84.070000  82.580002  82.800003  82.800003   26396   \n",
       "2024-03-05  82.970001  83.139999  81.730003  82.040001  82.040001   37442   \n",
       "2024-03-06  82.080002  84.059998  81.889999  82.959999  82.959999   35173   \n",
       "2024-03-07  82.839996  83.470001  82.070000  82.959999  82.959999   32447   \n",
       "2024-03-08  83.339996  83.839996  81.709999  82.080002  82.080002   26605   \n",
       "...               ...        ...        ...        ...        ...     ...   \n",
       "2024-10-02  74.400002  76.129997  73.589996  73.900002  73.900002   53911   \n",
       "2024-10-03  74.730003  77.970001  74.309998  77.620003  77.620003   68997   \n",
       "2024-10-04  77.989998  79.300003  77.389999  78.050003  78.050003   57481   \n",
       "2024-10-07  78.010002  81.160004  77.260002  80.930000  80.930000   57481   \n",
       "2024-10-08  81.160004  82.080002  78.919998  79.279999  79.279999    8719   \n",
       "\n",
       "              return  forecast_ar1  rolling_av  \n",
       "Date                                            \n",
       "2024-03-04  0.991023      0.999773         NaN  \n",
       "2024-03-05  0.990821      0.999265         NaN  \n",
       "2024-03-06  1.011214      0.999254         NaN  \n",
       "2024-03-07  1.000000      1.000436         NaN  \n",
       "2024-03-08  0.989393      0.999786         NaN  \n",
       "...              ...           ...         ...  \n",
       "2024-10-02  1.004622      1.001233    1.000464  \n",
       "2024-10-03  1.050338      1.000054    1.003828  \n",
       "2024-10-04  1.005540      1.002706    1.004903  \n",
       "2024-10-07  1.036899      1.000107    1.009385  \n",
       "2024-10-08  0.979612      1.001926    1.005627  \n",
       "\n",
       "[152 rows x 9 columns]"
      ]
     },
     "execution_count": 29,
     "metadata": {},
     "output_type": "execute_result"
    }
   ],
   "source": [
    "df_brent"
   ]
  },
  {
   "cell_type": "markdown",
   "metadata": {},
   "source": [
    "### Predictions\n",
    "\n",
    "We shall now look at the predictions made by our moving average model\n"
   ]
  },
  {
   "cell_type": "code",
   "execution_count": 30,
   "metadata": {},
   "outputs": [
    {
     "name": "stderr",
     "output_type": "stream",
     "text": [
      "C:\\Users\\manoe\\AppData\\Local\\Temp\\ipykernel_540\\281117180.py:1: SettingWithCopyWarning: \n",
      "A value is trying to be set on a copy of a slice from a DataFrame.\n",
      "Try using .loc[row_indexer,col_indexer] = value instead\n",
      "\n",
      "See the caveats in the documentation: https://pandas.pydata.org/pandas-docs/stable/user_guide/indexing.html#returning-a-view-versus-a-copy\n",
      "  df_brent['forecast_ma10'] = results.predict(start=start_date)\n"
     ]
    }
   ],
   "source": [
    "df_brent['forecast_ma10'] = results.predict(start=start_date)\n",
    "\n"
   ]
  },
  {
   "cell_type": "code",
   "execution_count": 31,
   "metadata": {},
   "outputs": [
    {
     "data": {
      "text/html": [
       "<div>\n",
       "<style scoped>\n",
       "    .dataframe tbody tr th:only-of-type {\n",
       "        vertical-align: middle;\n",
       "    }\n",
       "\n",
       "    .dataframe tbody tr th {\n",
       "        vertical-align: top;\n",
       "    }\n",
       "\n",
       "    .dataframe thead th {\n",
       "        text-align: right;\n",
       "    }\n",
       "</style>\n",
       "<table border=\"1\" class=\"dataframe\">\n",
       "  <thead>\n",
       "    <tr style=\"text-align: right;\">\n",
       "      <th></th>\n",
       "      <th>return</th>\n",
       "      <th>forecast_ma10</th>\n",
       "    </tr>\n",
       "    <tr>\n",
       "      <th>Date</th>\n",
       "      <th></th>\n",
       "      <th></th>\n",
       "    </tr>\n",
       "  </thead>\n",
       "  <tbody>\n",
       "    <tr>\n",
       "      <th>2024-09-25</th>\n",
       "      <td>0.977252</td>\n",
       "      <td>0.997237</td>\n",
       "    </tr>\n",
       "    <tr>\n",
       "      <th>2024-09-26</th>\n",
       "      <td>0.974680</td>\n",
       "      <td>0.998834</td>\n",
       "    </tr>\n",
       "    <tr>\n",
       "      <th>2024-09-27</th>\n",
       "      <td>1.005307</td>\n",
       "      <td>0.998086</td>\n",
       "    </tr>\n",
       "    <tr>\n",
       "      <th>2024-09-30</th>\n",
       "      <td>0.997082</td>\n",
       "      <td>0.997738</td>\n",
       "    </tr>\n",
       "    <tr>\n",
       "      <th>2024-10-01</th>\n",
       "      <td>1.024941</td>\n",
       "      <td>1.001131</td>\n",
       "    </tr>\n",
       "    <tr>\n",
       "      <th>2024-10-02</th>\n",
       "      <td>1.004622</td>\n",
       "      <td>1.002363</td>\n",
       "    </tr>\n",
       "    <tr>\n",
       "      <th>2024-10-03</th>\n",
       "      <td>1.050338</td>\n",
       "      <td>1.004836</td>\n",
       "    </tr>\n",
       "    <tr>\n",
       "      <th>2024-10-04</th>\n",
       "      <td>1.005540</td>\n",
       "      <td>1.008538</td>\n",
       "    </tr>\n",
       "    <tr>\n",
       "      <th>2024-10-07</th>\n",
       "      <td>1.036899</td>\n",
       "      <td>1.000504</td>\n",
       "    </tr>\n",
       "    <tr>\n",
       "      <th>2024-10-08</th>\n",
       "      <td>0.979612</td>\n",
       "      <td>0.999621</td>\n",
       "    </tr>\n",
       "  </tbody>\n",
       "</table>\n",
       "</div>"
      ],
      "text/plain": [
       "              return  forecast_ma10\n",
       "Date                               \n",
       "2024-09-25  0.977252       0.997237\n",
       "2024-09-26  0.974680       0.998834\n",
       "2024-09-27  1.005307       0.998086\n",
       "2024-09-30  0.997082       0.997738\n",
       "2024-10-01  1.024941       1.001131\n",
       "2024-10-02  1.004622       1.002363\n",
       "2024-10-03  1.050338       1.004836\n",
       "2024-10-04  1.005540       1.008538\n",
       "2024-10-07  1.036899       1.000504\n",
       "2024-10-08  0.979612       0.999621"
      ]
     },
     "execution_count": 31,
     "metadata": {},
     "output_type": "execute_result"
    }
   ],
   "source": [
    "df_brent[['return','forecast_ma10']].tail(10)\n",
    "\n"
   ]
  },
  {
   "cell_type": "code",
   "execution_count": 32,
   "metadata": {},
   "outputs": [
    {
     "data": {
      "image/png": "[encoded data removed]",
      "text/plain": [
       "<Figure size 640x480 with 1 Axes>"
      ]
     },
     "metadata": {},
     "output_type": "display_data"
    }
   ],
   "source": [
    "\n",
    "\n",
    "df_brent[['Close','rolling_av','forecast_ar1','forecast_ma10']].tail(30).plot(lw=0.8);\n",
    "\n"
   ]
  },
  {
   "cell_type": "code",
   "execution_count": 33,
   "metadata": {},
   "outputs": [
    {
     "name": "stdout",
     "output_type": "stream",
     "text": [
      "AR(1) MSE -> 0.00031545580465994845\n",
      "rolling(10) moving average MSE -> 0.0002930137553553435\n",
      "MA(10) MSE -> 0.00029784021673100083\n"
     ]
    }
   ],
   "source": [
    "from sklearn.metrics import mean_squared_error\n",
    "error_ar1 = mean_squared_error(df_brent['return'].tail(100),df_brent['forecast_ar1'].tail(100))\n",
    "print(f'AR(1) MSE -> {error_ar1}')\n",
    "error_rolling_av = mean_squared_error(df_brent['return'].tail(100),df_brent['rolling_av'].tail(100))\n",
    "print(f'rolling(10) moving average MSE -> {error_rolling_av}')\n",
    "error_ma10 = mean_squared_error(df_brent['return'].tail(100),df_brent['forecast_ma10'].tail(100))\n",
    "print(f'MA(10) MSE -> {error_ma10}')\n",
    "\n"
   ]
  },
  {
   "cell_type": "code",
   "execution_count": 34,
   "metadata": {},
   "outputs": [
    {
     "name": "stdout",
     "output_type": "stream",
     "text": [
      "ADF Statistic: -11.469886\n",
      "p-value: 0.000000\n"
     ]
    }
   ],
   "source": [
    "from statsmodels.tsa.stattools import adfuller\n",
    "X = df_brent[\"return\"]\n",
    "result = adfuller(X)\n",
    "print('ADF Statistic: %f' % result[0])\n",
    "print('p-value: %f' % result[1])"
   ]
  },
  {
   "cell_type": "markdown",
   "metadata": {},
   "source": [
    "# ARMA MODELS"
   ]
  },
  {
   "cell_type": "markdown",
   "metadata": {},
   "source": [
    "To create our auto regressive + moving average model we shall use ARIMA from statsmodels. \n",
    "\n",
    "This is a composite of an autoregressive model, AR(p), an integration model, I(d), and a moving average model, MA(q), which is passed via the tuple order(p,d,q). \n",
    "\n",
    "Here we shall use again a window of p=1 and q=10.\n"
   ]
  },
  {
   "cell_type": "code",
   "execution_count": 35,
   "metadata": {},
   "outputs": [
    {
     "name": "stderr",
     "output_type": "stream",
     "text": [
      "D:\\Anaconda3\\Lib\\site-packages\\statsmodels\\tsa\\base\\tsa_model.py:473: ValueWarning: A date index has been provided, but it has no associated frequency information and so will be ignored when e.g. forecasting.\n",
      "  self._init_dates(dates, freq)\n",
      "D:\\Anaconda3\\Lib\\site-packages\\statsmodels\\tsa\\base\\tsa_model.py:473: ValueWarning: A date index has been provided, but it has no associated frequency information and so will be ignored when e.g. forecasting.\n",
      "  self._init_dates(dates, freq)\n",
      "D:\\Anaconda3\\Lib\\site-packages\\statsmodels\\tsa\\base\\tsa_model.py:473: ValueWarning: A date index has been provided, but it has no associated frequency information and so will be ignored when e.g. forecasting.\n",
      "  self._init_dates(dates, freq)\n"
     ]
    },
    {
     "name": "stdout",
     "output_type": "stream",
     "text": [
      "                               SARIMAX Results                                \n",
      "==============================================================================\n",
      "Dep. Variable:                 return   No. Observations:                  152\n",
      "Model:                ARIMA(1, 0, 10)   Log Likelihood                 415.290\n",
      "Date:                Tue, 08 Oct 2024   AIC                           -804.579\n",
      "Time:                        11:18:21   BIC                           -765.269\n",
      "Sample:                             0   HQIC                          -788.610\n",
      "                                - 152                                         \n",
      "Covariance Type:                  opg                                         \n",
      "==============================================================================\n",
      "                 coef    std err          z      P>|z|      [0.025      0.975]\n",
      "------------------------------------------------------------------------------\n",
      "const          0.9998      0.001    677.152      0.000       0.997       1.003\n",
      "ar.L1          0.5261      0.632      0.833      0.405      -0.712       1.765\n",
      "ma.L1         -0.4987      0.648     -0.770      0.441      -1.768       0.770\n",
      "ma.L2          0.0120      0.098      0.123      0.902      -0.180       0.204\n",
      "ma.L3          0.0384      0.094      0.409      0.682      -0.145       0.222\n",
      "ma.L4         -0.1083      0.115     -0.945      0.344      -0.333       0.116\n",
      "ma.L5         -0.0087      0.091     -0.095      0.924      -0.187       0.170\n",
      "ma.L6         -0.1503      0.122     -1.237      0.216      -0.389       0.088\n",
      "ma.L7          0.0308      0.156      0.198      0.843      -0.274       0.336\n",
      "ma.L8          0.0850      0.127      0.670      0.503      -0.164       0.334\n",
      "ma.L9          0.0978      0.121      0.811      0.417      -0.138       0.334\n",
      "ma.L10         0.0203      0.140      0.146      0.884      -0.253       0.294\n",
      "sigma2         0.0002   3.05e-05      8.093      0.000       0.000       0.000\n",
      "===================================================================================\n",
      "Ljung-Box (L1) (Q):                   0.00   Jarque-Bera (JB):                 9.64\n",
      "Prob(Q):                              0.96   Prob(JB):                         0.01\n",
      "Heteroskedasticity (H):               2.84   Skew:                            -0.40\n",
      "Prob(H) (two-sided):                  0.00   Kurtosis:                         3.94\n",
      "===================================================================================\n",
      "\n",
      "Warnings:\n",
      "[1] Covariance matrix calculated using the outer product of gradients (complex-step).\n"
     ]
    },
    {
     "name": "stderr",
     "output_type": "stream",
     "text": [
      "D:\\Anaconda3\\Lib\\site-packages\\statsmodels\\base\\model.py:607: ConvergenceWarning: Maximum Likelihood optimization failed to converge. Check mle_retvals\n",
      "  warnings.warn(\"Maximum Likelihood optimization failed to \"\n"
     ]
    }
   ],
   "source": [
    "from statsmodels.tsa.arima.model import ARIMA\n",
    "ARMA_model = ARIMA(endog=df_brent['return'], order=(1, 0, 10))\n",
    "results = ARMA_model.fit()\n",
    "print(results.summary())"
   ]
  },
  {
   "cell_type": "code",
   "execution_count": 36,
   "metadata": {},
   "outputs": [
    {
     "ename": "KeyError",
     "evalue": "'The `start` argument could not be matched to a location related to the index of the data.'",
     "output_type": "error",
     "traceback": [
      "\u001b[1;31m---------------------------------------------------------------------------\u001b[0m",
      "\u001b[1;31mKeyError\u001b[0m                                  Traceback (most recent call last)",
      "File \u001b[1;32mindex.pyx:598\u001b[0m, in \u001b[0;36mpandas._libs.index.DatetimeEngine.get_loc\u001b[1;34m()\u001b[0m\n",
      "File \u001b[1;32mpandas\\_libs\\hashtable_class_helper.pxi:2606\u001b[0m, in \u001b[0;36mpandas._libs.hashtable.Int64HashTable.get_item\u001b[1;34m()\u001b[0m\n",
      "File \u001b[1;32mpandas\\_libs\\hashtable_class_helper.pxi:2630\u001b[0m, in \u001b[0;36mpandas._libs.hashtable.Int64HashTable.get_item\u001b[1;34m()\u001b[0m\n",
      "\u001b[1;31mKeyError\u001b[0m: 1641945600000000000",
      "\nDuring handling of the above exception, another exception occurred:\n",
      "\u001b[1;31mKeyError\u001b[0m                                  Traceback (most recent call last)",
      "File \u001b[1;32mD:\\Anaconda3\\Lib\\site-packages\\pandas\\core\\indexes\\base.py:3791\u001b[0m, in \u001b[0;36mIndex.get_loc\u001b[1;34m(self, key)\u001b[0m\n\u001b[0;32m   3790\u001b[0m \u001b[38;5;28;01mtry\u001b[39;00m:\n\u001b[1;32m-> 3791\u001b[0m     \u001b[38;5;28;01mreturn\u001b[39;00m \u001b[38;5;28;43mself\u001b[39;49m\u001b[38;5;241;43m.\u001b[39;49m\u001b[43m_engine\u001b[49m\u001b[38;5;241;43m.\u001b[39;49m\u001b[43mget_loc\u001b[49m\u001b[43m(\u001b[49m\u001b[43mcasted_key\u001b[49m\u001b[43m)\u001b[49m\n\u001b[0;32m   3792\u001b[0m \u001b[38;5;28;01mexcept\u001b[39;00m \u001b[38;5;167;01mKeyError\u001b[39;00m \u001b[38;5;28;01mas\u001b[39;00m err:\n",
      "File \u001b[1;32mindex.pyx:566\u001b[0m, in \u001b[0;36mpandas._libs.index.DatetimeEngine.get_loc\u001b[1;34m()\u001b[0m\n",
      "File \u001b[1;32mindex.pyx:600\u001b[0m, in \u001b[0;36mpandas._libs.index.DatetimeEngine.get_loc\u001b[1;34m()\u001b[0m\n",
      "\u001b[1;31mKeyError\u001b[0m: Timestamp('2022-01-12 00:00:00')",
      "\nThe above exception was the direct cause of the following exception:\n",
      "\u001b[1;31mKeyError\u001b[0m                                  Traceback (most recent call last)",
      "File \u001b[1;32mD:\\Anaconda3\\Lib\\site-packages\\pandas\\core\\indexes\\datetimes.py:631\u001b[0m, in \u001b[0;36mDatetimeIndex.get_loc\u001b[1;34m(self, key)\u001b[0m\n\u001b[0;32m    630\u001b[0m \u001b[38;5;28;01mtry\u001b[39;00m:\n\u001b[1;32m--> 631\u001b[0m     \u001b[38;5;28;01mreturn\u001b[39;00m \u001b[43mIndex\u001b[49m\u001b[38;5;241;43m.\u001b[39;49m\u001b[43mget_loc\u001b[49m\u001b[43m(\u001b[49m\u001b[38;5;28;43mself\u001b[39;49m\u001b[43m,\u001b[49m\u001b[43m \u001b[49m\u001b[43mkey\u001b[49m\u001b[43m)\u001b[49m\n\u001b[0;32m    632\u001b[0m \u001b[38;5;28;01mexcept\u001b[39;00m \u001b[38;5;167;01mKeyError\u001b[39;00m \u001b[38;5;28;01mas\u001b[39;00m err:\n",
      "File \u001b[1;32mD:\\Anaconda3\\Lib\\site-packages\\pandas\\core\\indexes\\base.py:3798\u001b[0m, in \u001b[0;36mIndex.get_loc\u001b[1;34m(self, key)\u001b[0m\n\u001b[0;32m   3797\u001b[0m         \u001b[38;5;28;01mraise\u001b[39;00m InvalidIndexError(key)\n\u001b[1;32m-> 3798\u001b[0m     \u001b[38;5;28;01mraise\u001b[39;00m \u001b[38;5;167;01mKeyError\u001b[39;00m(key) \u001b[38;5;28;01mfrom\u001b[39;00m \u001b[38;5;21;01merr\u001b[39;00m\n\u001b[0;32m   3799\u001b[0m \u001b[38;5;28;01mexcept\u001b[39;00m \u001b[38;5;167;01mTypeError\u001b[39;00m:\n\u001b[0;32m   3800\u001b[0m     \u001b[38;5;66;03m# If we have a listlike key, _check_indexing_error will raise\u001b[39;00m\n\u001b[0;32m   3801\u001b[0m     \u001b[38;5;66;03m#  InvalidIndexError. Otherwise we fall through and re-raise\u001b[39;00m\n\u001b[0;32m   3802\u001b[0m     \u001b[38;5;66;03m#  the TypeError.\u001b[39;00m\n",
      "\u001b[1;31mKeyError\u001b[0m: Timestamp('2022-01-12 00:00:00')",
      "\nThe above exception was the direct cause of the following exception:\n",
      "\u001b[1;31mKeyError\u001b[0m                                  Traceback (most recent call last)",
      "File \u001b[1;32mD:\\Anaconda3\\Lib\\site-packages\\statsmodels\\tsa\\base\\tsa_model.py:249\u001b[0m, in \u001b[0;36mget_index_label_loc\u001b[1;34m(key, index, row_labels)\u001b[0m\n\u001b[0;32m    248\u001b[0m \u001b[38;5;28;01mif\u001b[39;00m \u001b[38;5;129;01mnot\u001b[39;00m \u001b[38;5;28misinstance\u001b[39m(key, (\u001b[38;5;28mint\u001b[39m, np\u001b[38;5;241m.\u001b[39minteger)):\n\u001b[1;32m--> 249\u001b[0m     loc \u001b[38;5;241m=\u001b[39m \u001b[43mrow_labels\u001b[49m\u001b[38;5;241;43m.\u001b[39;49m\u001b[43mget_loc\u001b[49m\u001b[43m(\u001b[49m\u001b[43mkey\u001b[49m\u001b[43m)\u001b[49m\n\u001b[0;32m    250\u001b[0m \u001b[38;5;28;01melse\u001b[39;00m:\n",
      "File \u001b[1;32mD:\\Anaconda3\\Lib\\site-packages\\pandas\\core\\indexes\\datetimes.py:633\u001b[0m, in \u001b[0;36mDatetimeIndex.get_loc\u001b[1;34m(self, key)\u001b[0m\n\u001b[0;32m    632\u001b[0m \u001b[38;5;28;01mexcept\u001b[39;00m \u001b[38;5;167;01mKeyError\u001b[39;00m \u001b[38;5;28;01mas\u001b[39;00m err:\n\u001b[1;32m--> 633\u001b[0m     \u001b[38;5;28;01mraise\u001b[39;00m \u001b[38;5;167;01mKeyError\u001b[39;00m(orig_key) \u001b[38;5;28;01mfrom\u001b[39;00m \u001b[38;5;21;01merr\u001b[39;00m\n",
      "\u001b[1;31mKeyError\u001b[0m: '2022-01-12'",
      "\nDuring handling of the above exception, another exception occurred:\n",
      "\u001b[1;31mKeyError\u001b[0m                                  Traceback (most recent call last)",
      "File \u001b[1;32mD:\\Anaconda3\\Lib\\site-packages\\statsmodels\\tsa\\base\\tsa_model.py:358\u001b[0m, in \u001b[0;36mget_prediction_index\u001b[1;34m(start, end, nobs, base_index, index, silent, index_none, index_generated, data)\u001b[0m\n\u001b[0;32m    357\u001b[0m \u001b[38;5;28;01mtry\u001b[39;00m:\n\u001b[1;32m--> 358\u001b[0m     start, _, start_oos \u001b[38;5;241m=\u001b[39m \u001b[43mget_index_label_loc\u001b[49m\u001b[43m(\u001b[49m\n\u001b[0;32m    359\u001b[0m \u001b[43m        \u001b[49m\u001b[43mstart\u001b[49m\u001b[43m,\u001b[49m\u001b[43m \u001b[49m\u001b[43mbase_index\u001b[49m\u001b[43m,\u001b[49m\u001b[43m \u001b[49m\u001b[43mdata\u001b[49m\u001b[38;5;241;43m.\u001b[39;49m\u001b[43mrow_labels\u001b[49m\n\u001b[0;32m    360\u001b[0m \u001b[43m    \u001b[49m\u001b[43m)\u001b[49m\n\u001b[0;32m    361\u001b[0m \u001b[38;5;28;01mexcept\u001b[39;00m \u001b[38;5;167;01mKeyError\u001b[39;00m:\n",
      "File \u001b[1;32mD:\\Anaconda3\\Lib\\site-packages\\statsmodels\\tsa\\base\\tsa_model.py:281\u001b[0m, in \u001b[0;36mget_index_label_loc\u001b[1;34m(key, index, row_labels)\u001b[0m\n\u001b[0;32m    280\u001b[0m     \u001b[38;5;28;01mexcept\u001b[39;00m:\n\u001b[1;32m--> 281\u001b[0m         \u001b[38;5;28;01mraise\u001b[39;00m e\n\u001b[0;32m    282\u001b[0m \u001b[38;5;28;01mreturn\u001b[39;00m loc, index, index_was_expanded\n",
      "File \u001b[1;32mD:\\Anaconda3\\Lib\\site-packages\\statsmodels\\tsa\\base\\tsa_model.py:245\u001b[0m, in \u001b[0;36mget_index_label_loc\u001b[1;34m(key, index, row_labels)\u001b[0m\n\u001b[0;32m    244\u001b[0m \u001b[38;5;28;01mtry\u001b[39;00m:\n\u001b[1;32m--> 245\u001b[0m     loc, index, index_was_expanded \u001b[38;5;241m=\u001b[39m \u001b[43mget_index_loc\u001b[49m\u001b[43m(\u001b[49m\u001b[43mkey\u001b[49m\u001b[43m,\u001b[49m\u001b[43m \u001b[49m\u001b[43mindex\u001b[49m\u001b[43m)\u001b[49m\n\u001b[0;32m    246\u001b[0m \u001b[38;5;28;01mexcept\u001b[39;00m \u001b[38;5;167;01mKeyError\u001b[39;00m \u001b[38;5;28;01mas\u001b[39;00m e:\n",
      "File \u001b[1;32mD:\\Anaconda3\\Lib\\site-packages\\statsmodels\\tsa\\base\\tsa_model.py:195\u001b[0m, in \u001b[0;36mget_index_loc\u001b[1;34m(key, index)\u001b[0m\n\u001b[0;32m    194\u001b[0m \u001b[38;5;28;01mexcept\u001b[39;00m (\u001b[38;5;167;01mIndexError\u001b[39;00m, \u001b[38;5;167;01mValueError\u001b[39;00m) \u001b[38;5;28;01mas\u001b[39;00m e:\n\u001b[1;32m--> 195\u001b[0m     \u001b[38;5;28;01mraise\u001b[39;00m \u001b[38;5;167;01mKeyError\u001b[39;00m(\u001b[38;5;28mstr\u001b[39m(e))\n\u001b[0;32m    196\u001b[0m loc \u001b[38;5;241m=\u001b[39m key\n",
      "\u001b[1;31mKeyError\u001b[0m: 'only integers, slices (`:`), ellipsis (`...`), numpy.newaxis (`None`) and integer or boolean arrays are valid indices'",
      "\nDuring handling of the above exception, another exception occurred:\n",
      "\u001b[1;31mKeyError\u001b[0m                                  Traceback (most recent call last)",
      "Cell \u001b[1;32mIn[36], line 2\u001b[0m\n\u001b[0;32m      1\u001b[0m start_date \u001b[38;5;241m=\u001b[39m \u001b[38;5;124m'\u001b[39m\u001b[38;5;124m2022-01-12\u001b[39m\u001b[38;5;124m'\u001b[39m\n\u001b[1;32m----> 2\u001b[0m df_brent[\u001b[38;5;124m'\u001b[39m\u001b[38;5;124mforecast_ar1ma10\u001b[39m\u001b[38;5;124m'\u001b[39m] \u001b[38;5;241m=\u001b[39m \u001b[43mresults\u001b[49m\u001b[38;5;241;43m.\u001b[39;49m\u001b[43mpredict\u001b[49m\u001b[43m(\u001b[49m\u001b[43mstart\u001b[49m\u001b[38;5;241;43m=\u001b[39;49m\u001b[43mstart_date\u001b[49m\u001b[43m)\u001b[49m\n",
      "File \u001b[1;32mD:\\Anaconda3\\Lib\\site-packages\\statsmodels\\base\\wrapper.py:113\u001b[0m, in \u001b[0;36mmake_wrapper.<locals>.wrapper\u001b[1;34m(self, *args, **kwargs)\u001b[0m\n\u001b[0;32m    111\u001b[0m     obj \u001b[38;5;241m=\u001b[39m data\u001b[38;5;241m.\u001b[39mwrap_output(func(results, \u001b[38;5;241m*\u001b[39margs, \u001b[38;5;241m*\u001b[39m\u001b[38;5;241m*\u001b[39mkwargs), how[\u001b[38;5;241m0\u001b[39m], how[\u001b[38;5;241m1\u001b[39m:])\n\u001b[0;32m    112\u001b[0m \u001b[38;5;28;01melif\u001b[39;00m how:\n\u001b[1;32m--> 113\u001b[0m     obj \u001b[38;5;241m=\u001b[39m data\u001b[38;5;241m.\u001b[39mwrap_output(\u001b[43mfunc\u001b[49m\u001b[43m(\u001b[49m\u001b[43mresults\u001b[49m\u001b[43m,\u001b[49m\u001b[43m \u001b[49m\u001b[38;5;241;43m*\u001b[39;49m\u001b[43margs\u001b[49m\u001b[43m,\u001b[49m\u001b[43m \u001b[49m\u001b[38;5;241;43m*\u001b[39;49m\u001b[38;5;241;43m*\u001b[39;49m\u001b[43mkwargs\u001b[49m\u001b[43m)\u001b[49m, how)\n\u001b[0;32m    114\u001b[0m \u001b[38;5;28;01mreturn\u001b[39;00m obj\n",
      "File \u001b[1;32mD:\\Anaconda3\\Lib\\site-packages\\statsmodels\\tsa\\statespace\\mlemodel.py:3487\u001b[0m, in \u001b[0;36mMLEResults.predict\u001b[1;34m(self, start, end, dynamic, information_set, signal_only, **kwargs)\u001b[0m\n\u001b[0;32m   3422\u001b[0m \u001b[38;5;250m\u001b[39m\u001b[38;5;124mr\u001b[39m\u001b[38;5;124;03m\"\"\"\u001b[39;00m\n\u001b[0;32m   3423\u001b[0m \u001b[38;5;124;03mIn-sample prediction and out-of-sample forecasting\u001b[39;00m\n\u001b[0;32m   3424\u001b[0m \n\u001b[1;32m   (...)\u001b[0m\n\u001b[0;32m   3484\u001b[0m \u001b[38;5;124;03m    including confidence intervals.\u001b[39;00m\n\u001b[0;32m   3485\u001b[0m \u001b[38;5;124;03m\"\"\"\u001b[39;00m\n\u001b[0;32m   3486\u001b[0m \u001b[38;5;66;03m# Perform the prediction\u001b[39;00m\n\u001b[1;32m-> 3487\u001b[0m prediction_results \u001b[38;5;241m=\u001b[39m \u001b[38;5;28;43mself\u001b[39;49m\u001b[38;5;241;43m.\u001b[39;49m\u001b[43mget_prediction\u001b[49m\u001b[43m(\u001b[49m\n\u001b[0;32m   3488\u001b[0m \u001b[43m    \u001b[49m\u001b[43mstart\u001b[49m\u001b[43m,\u001b[49m\u001b[43m \u001b[49m\u001b[43mend\u001b[49m\u001b[43m,\u001b[49m\u001b[43m \u001b[49m\u001b[43mdynamic\u001b[49m\u001b[43m,\u001b[49m\u001b[43m \u001b[49m\u001b[43minformation_set\u001b[49m\u001b[38;5;241;43m=\u001b[39;49m\u001b[43minformation_set\u001b[49m\u001b[43m,\u001b[49m\n\u001b[0;32m   3489\u001b[0m \u001b[43m    \u001b[49m\u001b[43msignal_only\u001b[49m\u001b[38;5;241;43m=\u001b[39;49m\u001b[43msignal_only\u001b[49m\u001b[43m,\u001b[49m\u001b[43m \u001b[49m\u001b[38;5;241;43m*\u001b[39;49m\u001b[38;5;241;43m*\u001b[39;49m\u001b[43mkwargs\u001b[49m\u001b[43m)\u001b[49m\n\u001b[0;32m   3490\u001b[0m \u001b[38;5;28;01mreturn\u001b[39;00m prediction_results\u001b[38;5;241m.\u001b[39mpredicted_mean\n",
      "File \u001b[1;32mD:\\Anaconda3\\Lib\\site-packages\\statsmodels\\tsa\\statespace\\mlemodel.py:3340\u001b[0m, in \u001b[0;36mMLEResults.get_prediction\u001b[1;34m(self, start, end, dynamic, information_set, signal_only, index, exog, extend_model, extend_kwargs, **kwargs)\u001b[0m\n\u001b[0;32m   3336\u001b[0m     start \u001b[38;5;241m=\u001b[39m \u001b[38;5;241m0\u001b[39m\n\u001b[0;32m   3338\u001b[0m \u001b[38;5;66;03m# Handle start, end, dynamic\u001b[39;00m\n\u001b[0;32m   3339\u001b[0m start, end, out_of_sample, prediction_index \u001b[38;5;241m=\u001b[39m (\n\u001b[1;32m-> 3340\u001b[0m     \u001b[38;5;28;43mself\u001b[39;49m\u001b[38;5;241;43m.\u001b[39;49m\u001b[43mmodel\u001b[49m\u001b[38;5;241;43m.\u001b[39;49m\u001b[43m_get_prediction_index\u001b[49m\u001b[43m(\u001b[49m\u001b[43mstart\u001b[49m\u001b[43m,\u001b[49m\u001b[43m \u001b[49m\u001b[43mend\u001b[49m\u001b[43m,\u001b[49m\u001b[43m \u001b[49m\u001b[43mindex\u001b[49m\u001b[43m)\u001b[49m)\n\u001b[0;32m   3342\u001b[0m \u001b[38;5;66;03m# Handle `dynamic`\u001b[39;00m\n\u001b[0;32m   3343\u001b[0m \u001b[38;5;28;01mif\u001b[39;00m \u001b[38;5;28misinstance\u001b[39m(dynamic, (\u001b[38;5;28mstr\u001b[39m, dt\u001b[38;5;241m.\u001b[39mdatetime, pd\u001b[38;5;241m.\u001b[39mTimestamp)):\n",
      "File \u001b[1;32mD:\\Anaconda3\\Lib\\site-packages\\statsmodels\\tsa\\base\\tsa_model.py:836\u001b[0m, in \u001b[0;36mTimeSeriesModel._get_prediction_index\u001b[1;34m(self, start, end, index, silent)\u001b[0m\n\u001b[0;32m    780\u001b[0m \u001b[38;5;250m\u001b[39m\u001b[38;5;124;03m\"\"\"\u001b[39;00m\n\u001b[0;32m    781\u001b[0m \u001b[38;5;124;03mGet the location of a specific key in an index or model row labels\u001b[39;00m\n\u001b[0;32m    782\u001b[0m \n\u001b[1;32m   (...)\u001b[0m\n\u001b[0;32m    833\u001b[0m \u001b[38;5;124;03msince we have required them to be full indexes, there is no ambiguity).\u001b[39;00m\n\u001b[0;32m    834\u001b[0m \u001b[38;5;124;03m\"\"\"\u001b[39;00m\n\u001b[0;32m    835\u001b[0m nobs \u001b[38;5;241m=\u001b[39m \u001b[38;5;28mlen\u001b[39m(\u001b[38;5;28mself\u001b[39m\u001b[38;5;241m.\u001b[39mendog)\n\u001b[1;32m--> 836\u001b[0m \u001b[38;5;28;01mreturn\u001b[39;00m \u001b[43mget_prediction_index\u001b[49m\u001b[43m(\u001b[49m\n\u001b[0;32m    837\u001b[0m \u001b[43m    \u001b[49m\u001b[43mstart\u001b[49m\u001b[43m,\u001b[49m\n\u001b[0;32m    838\u001b[0m \u001b[43m    \u001b[49m\u001b[43mend\u001b[49m\u001b[43m,\u001b[49m\n\u001b[0;32m    839\u001b[0m \u001b[43m    \u001b[49m\u001b[43mnobs\u001b[49m\u001b[43m,\u001b[49m\n\u001b[0;32m    840\u001b[0m \u001b[43m    \u001b[49m\u001b[43mbase_index\u001b[49m\u001b[38;5;241;43m=\u001b[39;49m\u001b[38;5;28;43mself\u001b[39;49m\u001b[38;5;241;43m.\u001b[39;49m\u001b[43m_index\u001b[49m\u001b[43m,\u001b[49m\n\u001b[0;32m    841\u001b[0m \u001b[43m    \u001b[49m\u001b[43mindex\u001b[49m\u001b[38;5;241;43m=\u001b[39;49m\u001b[43mindex\u001b[49m\u001b[43m,\u001b[49m\n\u001b[0;32m    842\u001b[0m \u001b[43m    \u001b[49m\u001b[43msilent\u001b[49m\u001b[38;5;241;43m=\u001b[39;49m\u001b[43msilent\u001b[49m\u001b[43m,\u001b[49m\n\u001b[0;32m    843\u001b[0m \u001b[43m    \u001b[49m\u001b[43mindex_none\u001b[49m\u001b[38;5;241;43m=\u001b[39;49m\u001b[38;5;28;43mself\u001b[39;49m\u001b[38;5;241;43m.\u001b[39;49m\u001b[43m_index_none\u001b[49m\u001b[43m,\u001b[49m\n\u001b[0;32m    844\u001b[0m \u001b[43m    \u001b[49m\u001b[43mindex_generated\u001b[49m\u001b[38;5;241;43m=\u001b[39;49m\u001b[38;5;28;43mself\u001b[39;49m\u001b[38;5;241;43m.\u001b[39;49m\u001b[43m_index_generated\u001b[49m\u001b[43m,\u001b[49m\n\u001b[0;32m    845\u001b[0m \u001b[43m    \u001b[49m\u001b[43mdata\u001b[49m\u001b[38;5;241;43m=\u001b[39;49m\u001b[38;5;28;43mself\u001b[39;49m\u001b[38;5;241;43m.\u001b[39;49m\u001b[43mdata\u001b[49m\u001b[43m,\u001b[49m\n\u001b[0;32m    846\u001b[0m \u001b[43m\u001b[49m\u001b[43m)\u001b[49m\n",
      "File \u001b[1;32mD:\\Anaconda3\\Lib\\site-packages\\statsmodels\\tsa\\base\\tsa_model.py:362\u001b[0m, in \u001b[0;36mget_prediction_index\u001b[1;34m(start, end, nobs, base_index, index, silent, index_none, index_generated, data)\u001b[0m\n\u001b[0;32m    358\u001b[0m     start, _, start_oos \u001b[38;5;241m=\u001b[39m get_index_label_loc(\n\u001b[0;32m    359\u001b[0m         start, base_index, data\u001b[38;5;241m.\u001b[39mrow_labels\n\u001b[0;32m    360\u001b[0m     )\n\u001b[0;32m    361\u001b[0m \u001b[38;5;28;01mexcept\u001b[39;00m \u001b[38;5;167;01mKeyError\u001b[39;00m:\n\u001b[1;32m--> 362\u001b[0m     \u001b[38;5;28;01mraise\u001b[39;00m \u001b[38;5;167;01mKeyError\u001b[39;00m(\n\u001b[0;32m    363\u001b[0m         \u001b[38;5;124m\"\u001b[39m\u001b[38;5;124mThe `start` argument could not be matched to a\u001b[39m\u001b[38;5;124m\"\u001b[39m\n\u001b[0;32m    364\u001b[0m         \u001b[38;5;124m\"\u001b[39m\u001b[38;5;124m location related to the index of the data.\u001b[39m\u001b[38;5;124m\"\u001b[39m\n\u001b[0;32m    365\u001b[0m     )\n\u001b[0;32m    366\u001b[0m \u001b[38;5;28;01mif\u001b[39;00m end \u001b[38;5;129;01mis\u001b[39;00m \u001b[38;5;28;01mNone\u001b[39;00m:\n\u001b[0;32m    367\u001b[0m     end \u001b[38;5;241m=\u001b[39m \u001b[38;5;28mmax\u001b[39m(start, \u001b[38;5;28mlen\u001b[39m(base_index) \u001b[38;5;241m-\u001b[39m \u001b[38;5;241m1\u001b[39m)\n",
      "\u001b[1;31mKeyError\u001b[0m: 'The `start` argument could not be matched to a location related to the index of the data.'"
     ]
    }
   ],
   "source": [
    "start_date = '2022-01-12'\n",
    "df_brent['forecast_ar1ma10'] = results.predict(start=start_date)"
   ]
  },
  {
   "cell_type": "code",
   "execution_count": null,
   "metadata": {},
   "outputs": [],
   "source": [
    "df_brent[['return','rolling_av','forecast_ar1','forecast_ma10','forecast_ar1ma10']].tail(30).plot(lw=0.8);\n"
   ]
  },
  {
   "cell_type": "code",
   "execution_count": null,
   "metadata": {},
   "outputs": [],
   "source": [
    "from sklearn.metrics import mean_squared_error\n",
    "error_ar1 = mean_squared_error(df_brent['return'].tail(100),df_brent['forecast_ar1'].tail(100))\n",
    "print(f'AR(1) MSE -> {error_ar1}')\n",
    "error_rolling_av = mean_squared_error(df_brent['return'].tail(100),df_brent['rolling_av'].tail(100))\n",
    "print(f'rolling(10) moving average MSE -> {error_rolling_av}')\n",
    "error_ma10 = mean_squared_error(df_brent['return'].tail(100),df_brent['forecast_ma10'].tail(100))\n",
    "print(f'MA(10) MSE -> {error_ma10}')\n",
    "error_ar1ma10 = mean_squared_error(df_brent['return'].tail(100),df_brent['forecast_ar1ma10'].tail(100))\n",
    "print(f'ARMA(1,10) MSE -> {error_ar1ma10}')"
   ]
  },
  {
   "cell_type": "markdown",
   "metadata": {},
   "source": [
    "# Test for autocorrelation\n",
    "\n",
    "We will use the Durbin-Watson test for autocorrelation.  The Durbin-Watson statistic ranges in value from 0 to 4. A value near 2 indicates non-autocorrelation; a value toward 0 indicates positive autocorrelation; a value toward 4 indicates negative autocorrelation."
   ]
  },
  {
   "cell_type": "code",
   "execution_count": null,
   "metadata": {},
   "outputs": [],
   "source": [
    "durbin_watson(df_monthly.Close) "
   ]
  },
  {
   "cell_type": "markdown",
   "metadata": {},
   "source": [
    "## ACF & PACF Plotting"
   ]
  },
  {
   "cell_type": "code",
   "execution_count": null,
   "metadata": {},
   "outputs": [],
   "source": [
    "import matplotlib.pyplot as plt \n",
    "import statsmodels.api as sm\n",
    "import statsmodels.tsa.api as smt\n",
    "\n",
    "\n",
    "def tsplot(y, lags=None, figsize=(12, 7), style='bmh'): # [3]\n",
    "    if not isinstance(y, pd.Series):\n",
    "        y = pd.Series(y)\n",
    "        \n",
    "    with plt.style.context(style):    \n",
    "        fig = plt.figure(figsize=figsize)\n",
    "        layout = (2, 2)\n",
    "        ts_ax = plt.subplot2grid(layout, (0, 0), colspan=2)\n",
    "        acf_ax = plt.subplot2grid(layout, (1, 0))\n",
    "        pacf_ax = plt.subplot2grid(layout, (1, 1))\n",
    "        \n",
    "        y.plot(ax=ts_ax)\n",
    "        p_value = sm.tsa.stattools.adfuller(y)[1]\n",
    "        ts_ax.set_title('Time Series Analysis Plots\\n Dickey-Fuller: p={0:.5f}'.format(p_value))\n",
    "        smt.graphics.plot_acf(y, lags=lags, ax=acf_ax)\n",
    "        smt.graphics.plot_pacf(y, lags=lags, ax=pacf_ax)\n",
    "        plt.tight_layout()"
   ]
  },
  {
   "cell_type": "code",
   "execution_count": null,
   "metadata": {},
   "outputs": [],
   "source": [
    "tsplot(df_monthly.Close, lags=10)"
   ]
  },
  {
   "cell_type": "code",
   "execution_count": null,
   "metadata": {},
   "outputs": [],
   "source": [
    "tsplot(df_monthly.Close.diff(1).dropna(), lags=10)"
   ]
  },
  {
   "cell_type": "markdown",
   "metadata": {},
   "source": [
    "# Hyper parameter tunning for ARIMA models using Auto-Arima from pmdarima:\n",
    "ref: Auto Arima in Python: https://www.youtube.com/watch?v=8FCDpFhd1zk"
   ]
  },
  {
   "cell_type": "code",
   "execution_count": null,
   "metadata": {},
   "outputs": [],
   "source": [
    "!pip install pmdarima"
   ]
  },
  {
   "cell_type": "code",
   "execution_count": null,
   "metadata": {},
   "outputs": [],
   "source": [
    "from pmdarima import auto_arima\n",
    "stepwise_fit = auto_arima(df_brent['return'], trace=True,\n",
    "suppress_warnings=True, start_p=2, max_p=10, start_d=1, max_d=3, start_q=1, max_q=3)"
   ]
  },
  {
   "cell_type": "markdown",
   "metadata": {},
   "source": [
    "# question: \n",
    "\n",
    "## what we means for ARIMA(0,0,0) to the best model?\n",
    "* A model just with a constant? \n",
    "* A bad model?\n",
    "* It means that your data is white noise? ref: https://otexts.com/fpp2/non-seasonal-arima.html\n",
    "* Maybe, it means that ARIMA models are not good for this data?\n",
    "\n",
    "## why ARIMA(0,0,0) is the best model?\n",
    "* Maybe we coudl check that is not a good fit before?"
   ]
  },
  {
   "cell_type": "markdown",
   "metadata": {},
   "source": [
    "# References"
   ]
  },
  {
   "cell_type": "markdown",
   "metadata": {},
   "source": [
    "<img src=\"https://media.giphy.com/media/jsm7XMcyeTFJE4vHzO/giphy.gif\">"
   ]
  },
  {
   "cell_type": "markdown",
   "metadata": {},
   "source": [
    "* [1] -> https://en.wikipedia.org/wiki/Time_series#:~:text=A%20time%20series%20is%20a,sequence%20of%20discrete%2Dtime%20data.\n",
    "* [2] -> https://cmapskm.ihmc.us/rid=1052458821502_1749267941_6906/components.pdf\n",
    "* [3] -> https://www.kaggle.com/kashnitsky\n",
    "* [4] -> https://otexts.com/fpp2/stationarity.html#fn14\n",
    "* [5] -> https://www.statisticshowto.com/adf-augmented-dickey-fuller-test/\n",
    "* [6] -> https://people.duke.edu/~rnau/411diff.htm\n",
    "* [7] -> https://medium.com/@josemarcialportilla/using-python-and-auto-arima-to-forecast-seasonal-time-series-90877adff03c\n",
    "* [8] -> https://www.kaggle.com/code/utkukubilay/time-series-analysis-in-python/notebook \n",
    "* [9] -> https://www.datascienceassn.org/sites/default/files/Review%20of%20automated%20time%20series%20forecasting%20pipelines.pdf\n",
    "* [10] ->https://github.com/hincaltopcuoglu/\n",
    "* [11] ->https://www.udemy.com/user/joseportilla/"
   ]
  }
 ],
 "metadata": {
  "kernelspec": {
   "display_name": "Python 3 (ipykernel)",
   "language": "python",
   "name": "python3"
  },
  "language_info": {
   "codemirror_mode": {
    "name": "ipython",
    "version": 3
   },
   "file_extension": ".py",
   "mimetype": "text/x-python",
   "name": "python",
   "nbconvert_exporter": "python",
   "pygments_lexer": "ipython3",
   "version": "3.11.7"
  }
 },
 "nbformat": 4,
 "nbformat_minor": 4
}
