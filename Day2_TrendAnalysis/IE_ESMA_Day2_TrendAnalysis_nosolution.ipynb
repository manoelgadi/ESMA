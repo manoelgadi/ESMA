{
 "cells": [
  {
   "cell_type": "markdown",
   "metadata": {},
   "source": [
    "# Trend Analysis using Python\n",
    "       \n",
    "<img src=\"img/profile_manoelgadi.png\" width=100 height=100 align=\"right\">\n",
    "\n",
    "Author: Prof. Manoel Gadi\n",
    "\n",
    "Contact: mfalonso@faculty.ie.edu\n",
    "\n",
    "Teaching Web: http://mfalonso.pythonanywhere.com\n",
    "\n",
    "Last revision: 08/October/2024\n",
    "    \n",
    "        "
   ]
  },
  {
   "cell_type": "code",
   "execution_count": null,
   "metadata": {},
   "outputs": [],
   "source": [
    "!pip install pandas_datareader yfinance"
   ]
  },
  {
   "cell_type": "code",
   "execution_count": null,
   "metadata": {},
   "outputs": [],
   "source": [
    "import pandas as pd\n",
    "import yfinance as yf\n",
    "\n",
    "df_yahoo = yf.download('AAPL',\n",
    "                       start='2000-01-01',\n",
    "                       end='2010-12-31',\n",
    "                       progress=False)\n",
    "df_yahoo"
   ]
  },
  {
   "cell_type": "code",
   "execution_count": null,
   "metadata": {},
   "outputs": [],
   "source": [
    "import pandas_datareader.data as web\n",
    "\n",
    "import datetime\n",
    "\n",
    "start = datetime.datetime(2010, 1, 1)\n",
    "\n",
    "end = datetime.datetime(2013, 1, 27)\n",
    "\n",
    "df_gdp = web.DataReader('GDP', 'fred', start, end)\n",
    "df_gdp"
   ]
  },
  {
   "cell_type": "code",
   "execution_count": null,
   "metadata": {},
   "outputs": [],
   "source": [
    "from pandas_datareader import wb\n",
    "df_gdp = wb.download(indicator='NY.GDP.PCAP.KD', country=['US', 'CA', 'MX'], start=2005, end=2008)\n",
    "df_gdp"
   ]
  },
  {
   "cell_type": "markdown",
   "metadata": {},
   "source": [
    "\n",
    "## Exercise 1: Analyzing Economic Indicators using Yahoo Finance API\n",
    "\n",
    "Using the Yahoo Finance API, retrieve historical data for the following economic indicators:\n",
    "\n",
    "* **US 10-Year Treasury Constant Maturity Rate:** `^TNX`\n",
    "* **US 3-Month Treasury Bill Constant Maturity Rate:** `^IRX`\n",
    "* **US Consumer Price Index (CPI):** `^GSPC`\n"
   ]
  },
  {
   "cell_type": "code",
   "execution_count": null,
   "metadata": {},
   "outputs": [],
   "source": [
    "import pandas as pd\n",
    "import yfinance as yf\n",
    "tickers = ['^TNX', '^IRX', '^GSPC']\n",
    "start_date = '2010-01-01'\n",
    "end_date = '2023-12-31'\n",
    "df_economic_indicators = yf.download(tickers, start=start_date, end=end_date)\n",
    "df_economic_indicators"
   ]
  },
  {
   "cell_type": "markdown",
   "metadata": {},
   "source": [
    "\n",
    "## Exercise 2: Analyzing Economic Indicators using Yahoo Finance API\n",
    "\n",
    "Using the pandas_datareader, retrieve historical data for the following economic indicators:\n",
    "\n",
    "* ** Federal Funds Rate - the interest rate that banks charge each other for overnight loans:** `FEDFUNDS`\n",
    "* ** GDP per capita for Spain (ES), France (FR) and Germany (DE):** `NY.GDP.PCAP.KD`\n"
   ]
  },
  {
   "cell_type": "code",
   "execution_count": null,
   "metadata": {},
   "outputs": [],
   "source": [
    "import pandas as pd\n",
    "import pandas_datareader.data as web\n",
    "\n",
    "# Retrieve data from FRED\n",
    "federal_funds_rate = web.DataReader('FEDFUNDS', 'fred', start='2020-01-01', end='2023-12-31')\n",
    "print(federal_funds_rate.tail())\n",
    "\n",
    "from pandas_datareader import wb\n",
    "df_gdp = wb.download(indicator='NY.GDP.PCAP.KD', country = ['ES', 'FR', 'DE'], start=2005, end=2008)\n",
    "df_gdp"
   ]
  },
  {
   "cell_type": "markdown",
   "metadata": {},
   "source": [
    "# Time Series Analysis"
   ]
  },
  {
   "cell_type": "markdown",
   "metadata": {},
   "source": [
    "Time series forecasting is __fundamental for various use cases in different domains such as energy\n",
    "systems and economics__. \n"
   ]
  },
  {
   "cell_type": "markdown",
   "metadata": {},
   "source": [
    "## What is the time series\n",
    "A time series is a series of data points indexed (or listed or graphed) in time order. Most commonly, a time series is a sequence taken at successive equally spaced points in time. Time series are used in statistics, signal processing, pattern recognition, econometrics, mathematical finance, weather forecasting, earthquake prediction, electroencephalography, control engineering, astronomy, communications engineering, and largely in any domain of applied science and engineering which involves temporal measurements. [1]"
   ]
  },
  {
   "cell_type": "markdown",
   "metadata": {},
   "source": [
    "### Brent Crude Oil Last Day"
   ]
  },
  {
   "cell_type": "code",
   "execution_count": null,
   "metadata": {},
   "outputs": [],
   "source": [
    "import yfinance as yfin\n",
    "import datetime\n",
    "start=datetime.datetime(2024,3,1)\n",
    "\n",
    "stock_symbol='BZ=F' # BZ=F is the ticker of the Brent Crude Oil Last Day Financial Futures on the New York Mercantile Exchange (NYMEX)\n",
    "\n",
    "df_brent = yf.download(stock_symbol, start=start)\n",
    "df_brent "
   ]
  },
  {
   "cell_type": "markdown",
   "metadata": {},
   "source": [
    "### Making the series stationary"
   ]
  },
  {
   "cell_type": "code",
   "execution_count": null,
   "metadata": {},
   "outputs": [],
   "source": [
    "df_brent[\"return\"] = df_brent[\"Close\"]/df_brent[\"Close\"].shift(1)\n",
    "df_brent = df_brent.dropna()\n",
    "df_brent"
   ]
  },
  {
   "cell_type": "markdown",
   "metadata": {},
   "source": [
    "### Test for autocorrelation\n",
    "\n",
    "We will use the Durbin-Watson test for autocorrelation.  The Durbin-Watson statistic ranges in value from 0 to 4. A value near 2 indicates non-autocorrelation; a value toward 0 indicates positive autocorrelation; a value toward 4 indicates negative autocorrelation.\n",
    "\n",
    "\n",
    "The Hypotheses for the Durbin Watson test are:\n",
    "H0 = no first order autocorrelation.\n",
    "H1 = first order correlation exists.\n",
    "(For a first order correlation, the lag is one time unit).\n",
    "Assumptions are:\n",
    "\n",
    "\n",
    "The Durbin Watson test reports a test statistic, with a value from 0 to 4, where:\n",
    "\n",
    "* 1.5 to 2.5 is no autocorrelation.\n",
    "* 0 to <1.5 is positive autocorrelation (common in time series data).\n",
    "* \\>2.5 to 4 is negative autocorrelation (less common in time series data)."
   ]
  },
  {
   "cell_type": "code",
   "execution_count": null,
   "metadata": {},
   "outputs": [],
   "source": [
    "from statsmodels.stats.stattools import durbin_watson\n",
    "print(durbin_watson(df_brent[\"Close\"]))"
   ]
  },
  {
   "cell_type": "markdown",
   "metadata": {},
   "source": [
    "We OK to go as autocorrelation exists!\n",
    "\n",
    "Autocorrelation is necessary when using univariate time series forecasting, __if autocorrelation does not exist__ we need to __introduce exogenous variables__ and perform multivariate time series analysis. Although some techiniques have been generalised to be multivariate, without doubt, __LSTM and related techiniques are the most frequent in this case__. We will see LSTM next VC ;-)  "
   ]
  },
  {
   "cell_type": "markdown",
   "metadata": {},
   "source": [
    "### Auto Regressive Model using ARIMA from statsmodels\n",
    "\n",
    "To create our moving average model we shall use ARIMA from statsmodels. This is a composite of an autoregressive model, AR(p), an integration model, I(d), and a moving average model, MA(q), which is passed via the tuple order(p,d,q). Here we shall use again a window of p=1:\n",
    "\n",
    "Moving Average (MA) Models  - Short Memory Models\n",
    "\n",
    "In a Moving Average 1, MA(1), the forecast is calculated based on the error of the previous day.\n",
    "\n",
    "In a Moving Average q, MA(q), the forecast is calculated based on the moving average errors of the __q__ previous day.\n",
    "\n",
    "\n",
    "#### VIDEO: \n",
    "MA Models - https://www.youtube.com/watch?v=zNLG8tsA_Go"
   ]
  },
  {
   "cell_type": "code",
   "execution_count": null,
   "metadata": {},
   "outputs": [],
   "source": [
    "from statsmodels.tsa.arima.model import ARIMA\n",
    "ARMA_model = ARIMA(endog=df_brent['return'], order=(2, 0, 0))\n",
    "results = ARMA_model.fit()\n",
    "print(results.summary())\n",
    "\n",
    "start_date = '2024-03-04'\n",
    "end_date   = '2024-10-08'\n",
    "df_brent['forecast_ar2'] = results.predict(start=start_date)\n"
   ]
  },
  {
   "cell_type": "code",
   "execution_count": null,
   "metadata": {},
   "outputs": [],
   "source": [
    "from statsmodels.tsa.arima.model import ARIMA\n",
    "ARMA_model = ARIMA(endog=df_brent['return'], order=(0, 1, 0))\n",
    "results = ARMA_model.fit()\n",
    "print(results.summary())"
   ]
  },
  {
   "cell_type": "code",
   "execution_count": null,
   "metadata": {},
   "outputs": [],
   "source": [
    "from statsmodels.tsa.arima.model import ARIMA\n",
    "ARMA_model = ARIMA(endog=df_brent['return'], order=(0, 0, 2))\n",
    "results = ARMA_model.fit()\n",
    "print(results.summary())"
   ]
  },
  {
   "cell_type": "code",
   "execution_count": null,
   "metadata": {},
   "outputs": [],
   "source": [
    "df_brent['forecast_ma2'] = results.predict(start=start_date)\n"
   ]
  },
  {
   "cell_type": "code",
   "execution_count": null,
   "metadata": {},
   "outputs": [],
   "source": [
    "from statsmodels.tsa.arima.model import ARIMA\n",
    "ARMA_model = ARIMA(endog=df_brent['return'], order=(2, 1, 2))\n",
    "results = ARMA_model.fit()\n",
    "print(results.summary())\n",
    "\n",
    "df_brent['forecast_ar2i1ma2'] = results.predict(start=start_date)\n"
   ]
  },
  {
   "cell_type": "code",
   "execution_count": null,
   "metadata": {},
   "outputs": [],
   "source": [
    "df_brent.columns"
   ]
  },
  {
   "cell_type": "code",
   "execution_count": null,
   "metadata": {},
   "outputs": [],
   "source": [
    "df_brent[['return', 'forecast_ar2', 'forecast_ma2', 'forecast_ar2i1ma2']].tail(30).plot(lw=0.8);\n"
   ]
  },
  {
   "cell_type": "markdown",
   "metadata": {},
   "source": [
    "# Hyper parameter tunning for ARIMA models using Auto-Arima from pmdarima:\n",
    "ref: Auto Arima in Python: https://www.youtube.com/watch?v=8FCDpFhd1zk"
   ]
  },
  {
   "cell_type": "code",
   "execution_count": null,
   "metadata": {},
   "outputs": [],
   "source": [
    "!pip install pmdarima"
   ]
  },
  {
   "cell_type": "code",
   "execution_count": null,
   "metadata": {},
   "outputs": [],
   "source": [
    "from pmdarima import auto_arima\n",
    "stepwise_fit = auto_arima(df_brent['return'], trace=True,\n",
    "suppress_warnings=True, start_p=2, max_p=10, start_d=1, max_d=3, start_q=1, max_q=3)"
   ]
  },
  {
   "cell_type": "markdown",
   "metadata": {},
   "source": [
    "# question: \n",
    "\n",
    "## what we means for ARIMA(0,0,0) to the best model?\n",
    "* A model just with a constant? \n",
    "* A bad model?\n",
    "* It means that your data is white noise? ref: https://otexts.com/fpp2/non-seasonal-arima.html\n",
    "* Maybe, it means that ARIMA models are not good for this data?\n",
    "\n",
    "## why ARIMA(0,0,0) is the best model?\n",
    "* Maybe we coudl check that is not a good fit before?"
   ]
  },
  {
   "cell_type": "markdown",
   "metadata": {},
   "source": [
    "# References"
   ]
  },
  {
   "cell_type": "markdown",
   "metadata": {},
   "source": [
    "<img src=\"https://media.giphy.com/media/jsm7XMcyeTFJE4vHzO/giphy.gif\">"
   ]
  },
  {
   "cell_type": "markdown",
   "metadata": {},
   "source": [
    "\n",
    "* [1] -> https://en.wikipedia.org/wiki/Time_series#:~:text=A%20time%20series%20is%20a,sequence%20of%20discrete%2Dtime%20data.\n",
    "* [2] -> https://cmapskm.ihmc.us/rid=1052458821502_1749267941_6906/components.pdf\n",
    "* [3] -> https://www.kaggle.com/kashnitsky\n",
    "* [4] -> https://otexts.com/fpp2/stationarity.html#fn14\n",
    "* [5] -> https://www.statisticshowto.com/adf-augmented-dickey-fuller-test/\n",
    "* [6] -> https://people.duke.edu/~rnau/411diff.htm\n",
    "* [7] -> https://medium.com/@josemarcialportilla/using-python-and-auto-arima-to-forecast-seasonal-time-series-90877adff03c\n",
    "* [8] -> https://www.kaggle.com/code/utkukubilay/time-series-analysis-in-python/notebook \n",
    "* [9] -> https://www.datascienceassn.org/sites/default/files/Review%20of%20automated%20time%20series%20forecasting%20pipelines.pdf\n",
    "* [10] ->https://github.com/hincaltopcuoglu/\n",
    "* [11] ->https://www.udemy.com/user/joseportilla/"
   ]
  },
  {
   "cell_type": "markdown",
   "metadata": {},
   "source": [
    "# ML & Time series - Neural net models applied to forecasting\n",
    "\n",
    "# 1 - Long Short-Term Memory networks (LSTM) in Python\n",
    "\n",
    "## A long history of application of A. I. and Time Series\n",
    "However the inter-relationship between AI and Time Series are not new. In the last 30, it has been created algorithms using A. I. for time series forecasting in an isolate or in a combined way with classical statistical time-series algorithms.\n",
    "Currently the most known algoritm is the LSTM (Long short term time memory)\n",
    "review: https://neptune.ai/blog/arima-vs-prophet-vs-lstm\n",
    "\n",
    "\n",
    "## Recurrent Neural Networks (RNN)\n",
    "\n",
    "__Humans don’t start their thinking from scratch every second__. As you read this essay, you understand each word based on your understanding of previous words. You don’t throw everything away and start thinking from scratch again. __Your thoughts have persistence__.\n",
    "\n",
    "__Traditional neural networks can’t do this__, and it seems like a major shortcoming. For example, imagine you want to classify what kind of event is happening at every point in a movie. It’s unclear how a traditional neural network could use its reasoning about previous events in the film to inform later ones.\n",
    "\n",
    "__RNNs address this issue by introduccing a loops, allowing information to persist__.\n",
    "\n",
    "\n",
    "\n",
    "However, __RNN suffer from the long term dependency problem__. Overtime, with more information, RNN become less effective of learning new things.\n",
    "\n",
    "\n",
    "LSTM provides solution to long term dependency problem, by introduccing a cell state.\n",
    "\n",
    "The cell state is kind of like a conveyor belt. It runs straight down the entire chain, with only some minor linear interactions. It’s very easy for information to just flow along it unchanged.\n",
    "\n",
    "\n",
    "---\n",
    "\n",
    "Let's watch this video and stop it to compare with ARIMA models, then maybe things become a bit clearer:\n",
    "\n",
    "<a href=\"https://www.youtube.com/watch?v=b61DPVFX03I\" target=\"_blank\"> </a>\n",
    "\n",
    "---\n",
    "\n",
    "If you want to go deeper in the math behind, you can have a look in to:\n",
    "https://colah.github.io/posts/2015-08-Understanding-LSTMs/\n",
    "\n",
    "---\n",
    "\n",
    "\n"
   ]
  },
  {
   "cell_type": "code",
   "execution_count": null,
   "metadata": {},
   "outputs": [],
   "source": [
    "! pip install keras"
   ]
  },
  {
   "cell_type": "code",
   "execution_count": null,
   "metadata": {},
   "outputs": [],
   "source": [
    "! pip install tensorflow"
   ]
  },
  {
   "cell_type": "code",
   "execution_count": 1,
   "metadata": {},
   "outputs": [
    {
     "name": "stdout",
     "output_type": "stream",
     "text": [
      "[*********************100%%**********************]  1 of 1 completed\n"
     ]
    },
    {
     "data": {
      "text/html": [
       "<div>\n",
       "<style scoped>\n",
       "    .dataframe tbody tr th:only-of-type {\n",
       "        vertical-align: middle;\n",
       "    }\n",
       "\n",
       "    .dataframe tbody tr th {\n",
       "        vertical-align: top;\n",
       "    }\n",
       "\n",
       "    .dataframe thead th {\n",
       "        text-align: right;\n",
       "    }\n",
       "</style>\n",
       "<table border=\"1\" class=\"dataframe\">\n",
       "  <thead>\n",
       "    <tr style=\"text-align: right;\">\n",
       "      <th></th>\n",
       "      <th>Open</th>\n",
       "      <th>High</th>\n",
       "      <th>Low</th>\n",
       "      <th>Close</th>\n",
       "      <th>Adj Close</th>\n",
       "      <th>Volume</th>\n",
       "      <th>return</th>\n",
       "    </tr>\n",
       "    <tr>\n",
       "      <th>Date</th>\n",
       "      <th></th>\n",
       "      <th></th>\n",
       "      <th></th>\n",
       "      <th></th>\n",
       "      <th></th>\n",
       "      <th></th>\n",
       "      <th></th>\n",
       "    </tr>\n",
       "  </thead>\n",
       "  <tbody>\n",
       "    <tr>\n",
       "      <th>2024-03-04</th>\n",
       "      <td>83.589996</td>\n",
       "      <td>84.070000</td>\n",
       "      <td>82.580002</td>\n",
       "      <td>82.800003</td>\n",
       "      <td>82.800003</td>\n",
       "      <td>26396</td>\n",
       "      <td>0.991023</td>\n",
       "    </tr>\n",
       "    <tr>\n",
       "      <th>2024-03-05</th>\n",
       "      <td>82.970001</td>\n",
       "      <td>83.139999</td>\n",
       "      <td>81.730003</td>\n",
       "      <td>82.040001</td>\n",
       "      <td>82.040001</td>\n",
       "      <td>37442</td>\n",
       "      <td>0.990821</td>\n",
       "    </tr>\n",
       "    <tr>\n",
       "      <th>2024-03-06</th>\n",
       "      <td>82.080002</td>\n",
       "      <td>84.059998</td>\n",
       "      <td>81.889999</td>\n",
       "      <td>82.959999</td>\n",
       "      <td>82.959999</td>\n",
       "      <td>35173</td>\n",
       "      <td>1.011214</td>\n",
       "    </tr>\n",
       "    <tr>\n",
       "      <th>2024-03-07</th>\n",
       "      <td>82.839996</td>\n",
       "      <td>83.470001</td>\n",
       "      <td>82.070000</td>\n",
       "      <td>82.959999</td>\n",
       "      <td>82.959999</td>\n",
       "      <td>32447</td>\n",
       "      <td>1.000000</td>\n",
       "    </tr>\n",
       "    <tr>\n",
       "      <th>2024-03-08</th>\n",
       "      <td>83.339996</td>\n",
       "      <td>83.839996</td>\n",
       "      <td>81.709999</td>\n",
       "      <td>82.080002</td>\n",
       "      <td>82.080002</td>\n",
       "      <td>26605</td>\n",
       "      <td>0.989393</td>\n",
       "    </tr>\n",
       "    <tr>\n",
       "      <th>...</th>\n",
       "      <td>...</td>\n",
       "      <td>...</td>\n",
       "      <td>...</td>\n",
       "      <td>...</td>\n",
       "      <td>...</td>\n",
       "      <td>...</td>\n",
       "      <td>...</td>\n",
       "    </tr>\n",
       "    <tr>\n",
       "      <th>2024-10-04</th>\n",
       "      <td>77.989998</td>\n",
       "      <td>79.300003</td>\n",
       "      <td>77.389999</td>\n",
       "      <td>78.050003</td>\n",
       "      <td>78.050003</td>\n",
       "      <td>57481</td>\n",
       "      <td>1.005540</td>\n",
       "    </tr>\n",
       "    <tr>\n",
       "      <th>2024-10-07</th>\n",
       "      <td>78.010002</td>\n",
       "      <td>81.160004</td>\n",
       "      <td>77.260002</td>\n",
       "      <td>80.930000</td>\n",
       "      <td>80.930000</td>\n",
       "      <td>55050</td>\n",
       "      <td>1.036899</td>\n",
       "    </tr>\n",
       "    <tr>\n",
       "      <th>2024-10-08</th>\n",
       "      <td>81.160004</td>\n",
       "      <td>82.080002</td>\n",
       "      <td>76.370003</td>\n",
       "      <td>77.180000</td>\n",
       "      <td>77.180000</td>\n",
       "      <td>66184</td>\n",
       "      <td>0.953664</td>\n",
       "    </tr>\n",
       "    <tr>\n",
       "      <th>2024-10-09</th>\n",
       "      <td>77.519997</td>\n",
       "      <td>78.019997</td>\n",
       "      <td>75.150002</td>\n",
       "      <td>76.580002</td>\n",
       "      <td>76.580002</td>\n",
       "      <td>66184</td>\n",
       "      <td>0.992226</td>\n",
       "    </tr>\n",
       "    <tr>\n",
       "      <th>2024-10-10</th>\n",
       "      <td>76.750000</td>\n",
       "      <td>77.309998</td>\n",
       "      <td>76.739998</td>\n",
       "      <td>77.279999</td>\n",
       "      <td>77.279999</td>\n",
       "      <td>2364</td>\n",
       "      <td>1.009141</td>\n",
       "    </tr>\n",
       "  </tbody>\n",
       "</table>\n",
       "<p>154 rows × 7 columns</p>\n",
       "</div>"
      ],
      "text/plain": [
       "                 Open       High        Low      Close  Adj Close  Volume  \\\n",
       "Date                                                                        \n",
       "2024-03-04  83.589996  84.070000  82.580002  82.800003  82.800003   26396   \n",
       "2024-03-05  82.970001  83.139999  81.730003  82.040001  82.040001   37442   \n",
       "2024-03-06  82.080002  84.059998  81.889999  82.959999  82.959999   35173   \n",
       "2024-03-07  82.839996  83.470001  82.070000  82.959999  82.959999   32447   \n",
       "2024-03-08  83.339996  83.839996  81.709999  82.080002  82.080002   26605   \n",
       "...               ...        ...        ...        ...        ...     ...   \n",
       "2024-10-04  77.989998  79.300003  77.389999  78.050003  78.050003   57481   \n",
       "2024-10-07  78.010002  81.160004  77.260002  80.930000  80.930000   55050   \n",
       "2024-10-08  81.160004  82.080002  76.370003  77.180000  77.180000   66184   \n",
       "2024-10-09  77.519997  78.019997  75.150002  76.580002  76.580002   66184   \n",
       "2024-10-10  76.750000  77.309998  76.739998  77.279999  77.279999    2364   \n",
       "\n",
       "              return  \n",
       "Date                  \n",
       "2024-03-04  0.991023  \n",
       "2024-03-05  0.990821  \n",
       "2024-03-06  1.011214  \n",
       "2024-03-07  1.000000  \n",
       "2024-03-08  0.989393  \n",
       "...              ...  \n",
       "2024-10-04  1.005540  \n",
       "2024-10-07  1.036899  \n",
       "2024-10-08  0.953664  \n",
       "2024-10-09  0.992226  \n",
       "2024-10-10  1.009141  \n",
       "\n",
       "[154 rows x 7 columns]"
      ]
     },
     "execution_count": 1,
     "metadata": {},
     "output_type": "execute_result"
    }
   ],
   "source": [
    "import yfinance as yf\n",
    "import datetime\n",
    "start=datetime.datetime(2024,3,1)\n",
    "\n",
    "stock_symbol='BZ=F' # BZ=F is the ticker of the Brent Crude Oil Last Day Financial Futures on the New York Mercantile Exchange (NYMEX)\n",
    "\n",
    "df_brent = yf.download(stock_symbol, start=start)\n",
    "df_brent[\"return\"] = df_brent[\"Close\"]/df_brent[\"Close\"].shift(1)\n",
    "df_brent = df_brent.dropna()\n",
    "df_brent "
   ]
  },
  {
   "cell_type": "code",
   "execution_count": 2,
   "metadata": {},
   "outputs": [
    {
     "data": {
      "text/plain": [
       "Index(['return'], dtype='object')"
      ]
     },
     "execution_count": 2,
     "metadata": {},
     "output_type": "execute_result"
    }
   ],
   "source": [
    "df = df_brent[['return']]\n",
    "df.columns"
   ]
  },
  {
   "cell_type": "code",
   "execution_count": 3,
   "metadata": {},
   "outputs": [],
   "source": [
    "from math import sqrt\n",
    "from numpy import concatenate\n",
    "from matplotlib import pyplot\n",
    "import pandas as pd\n",
    "from sklearn.preprocessing import MinMaxScaler\n",
    "from sklearn.preprocessing import LabelEncoder\n",
    "from sklearn.metrics import mean_squared_error\n",
    "from keras.models import Sequential\n",
    "from keras.layers import Dense\n",
    "from keras.layers import LSTM"
   ]
  },
  {
   "cell_type": "code",
   "execution_count": 8,
   "metadata": {},
   "outputs": [],
   "source": [
    "# convert series to supervised learning\n",
    "def series_to_supervised(data, n_in=1, n_out=1, dropnan=True):\n",
    "    n_vars = 1 if type(data) is list else data.shape[1]\n",
    "    df = pd.DataFrame(data)\n",
    "    cols, names = list(), list()\n",
    "    # input sequence (t-n, ... t-1)\n",
    "    for i in range(n_in, 0, -1):\n",
    "        cols.append(df.shift(i))\n",
    "        names += [('var%d(t-%d)' % (j+1, i)) for j in range(n_vars)]\n",
    "    # forecast sequence (t, t+1, ... t+n)\n",
    "    for i in range(0, n_out):\n",
    "        cols.append(df.shift(-i))\n",
    "        if i == 0:\n",
    "            names += [('var%d(t)' % (j+1)) for j in range(n_vars)]\n",
    "        else:\n",
    "            names += [('var%d(t+%d)' % (j+1, i)) for j in range(n_vars)]\n",
    "    # put it all together\n",
    "    agg = pd.concat(cols, axis=1)\n",
    "    agg.columns = names\n",
    "    # drop rows with NaN values\n",
    "    if dropnan:\n",
    "        agg.dropna(inplace=True)\n",
    "    return agg"
   ]
  },
  {
   "cell_type": "code",
   "execution_count": 9,
   "metadata": {},
   "outputs": [
    {
     "name": "stdout",
     "output_type": "stream",
     "text": [
      "            var1(t-1)   var1(t)\n",
      "Date                           \n",
      "2024-03-05   0.991023  0.990821\n",
      "2024-03-06   0.990821  1.011214\n",
      "2024-03-07   1.011214  1.000000\n",
      "2024-03-08   1.000000  0.989393\n",
      "2024-03-11   0.989393  1.001584\n"
     ]
    }
   ],
   "source": [
    "# normalize features\n",
    "#scaler = MinMaxScaler(feature_range=(0, 1))\n",
    "#scaled = scaler.fit_transform(values)\n",
    "\n",
    "# frame as supervised learning\n",
    "reframed = series_to_supervised(df, 1, 1)\n",
    "# drop columns we don't want to predict\n",
    "#reframed.drop(reframed.columns[[9,10,11,12,13,14,15,16,17,18]], axis=1, inplace=True)\n",
    "print(reframed.head())"
   ]
  },
  {
   "cell_type": "code",
   "execution_count": 10,
   "metadata": {},
   "outputs": [
    {
     "name": "stdout",
     "output_type": "stream",
     "text": [
      "(122, 1, 2) (122,) (31, 1, 2) (31,)\n"
     ]
    }
   ],
   "source": [
    "# split into train and test sets\n",
    "values = reframed.values\n",
    "n_train_hours = int(reframed.shape[0]*0.8) #80% for training\n",
    "train = values[:n_train_hours, :]\n",
    "test = values[n_train_hours:, :]\n",
    "# split into input and outputs\n",
    "train_X, train_y = train[:, 0:9], train[:, -1]\n",
    "test_X, test_y = test[:, 0:9], test[:, -1]\n",
    "# reshape input to be 3D [samples, timesteps, features]\n",
    "train_X = train_X.reshape((train_X.shape[0], 1, train_X.shape[1]))\n",
    "test_X = test_X.reshape((test_X.shape[0], 1, test_X.shape[1]))\n",
    "print(train_X.shape, train_y.shape, test_X.shape, test_y.shape)"
   ]
  },
  {
   "cell_type": "code",
   "execution_count": 11,
   "metadata": {},
   "outputs": [
    {
     "name": "stderr",
     "output_type": "stream",
     "text": [
      "D:\\Anaconda3\\Lib\\site-packages\\keras\\src\\layers\\rnn\\rnn.py:204: UserWarning: Do not pass an `input_shape`/`input_dim` argument to a layer. When using Sequential models, prefer using an `Input(shape)` object as the first layer in the model instead.\n",
      "  super().__init__(**kwargs)\n"
     ]
    },
    {
     "name": "stdout",
     "output_type": "stream",
     "text": [
      "Epoch 1/50\n",
      "2/2 - 6s - 3s/step - loss: 1.0015 - val_loss: 0.9962\n",
      "Epoch 2/50\n",
      "2/2 - 0s - 42ms/step - loss: 0.9954 - val_loss: 0.9905\n",
      "Epoch 3/50\n",
      "2/2 - 0s - 45ms/step - loss: 0.9898 - val_loss: 0.9850\n",
      "Epoch 4/50\n",
      "2/2 - 0s - 40ms/step - loss: 0.9844 - val_loss: 0.9801\n",
      "Epoch 5/50\n",
      "2/2 - 0s - 36ms/step - loss: 0.9795 - val_loss: 0.9753\n",
      "Epoch 6/50\n",
      "2/2 - 0s - 40ms/step - loss: 0.9748 - val_loss: 0.9708\n",
      "Epoch 7/50\n",
      "2/2 - 0s - 38ms/step - loss: 0.9703 - val_loss: 0.9664\n",
      "Epoch 8/50\n",
      "2/2 - 0s - 43ms/step - loss: 0.9659 - val_loss: 0.9618\n",
      "Epoch 9/50\n",
      "2/2 - 0s - 37ms/step - loss: 0.9613 - val_loss: 0.9571\n",
      "Epoch 10/50\n",
      "2/2 - 0s - 50ms/step - loss: 0.9565 - val_loss: 0.9522\n",
      "Epoch 11/50\n",
      "2/2 - 0s - 52ms/step - loss: 0.9516 - val_loss: 0.9471\n",
      "Epoch 12/50\n",
      "2/2 - 0s - 62ms/step - loss: 0.9464 - val_loss: 0.9418\n",
      "Epoch 13/50\n",
      "2/2 - 0s - 49ms/step - loss: 0.9410 - val_loss: 0.9361\n",
      "Epoch 14/50\n",
      "2/2 - 0s - 49ms/step - loss: 0.9352 - val_loss: 0.9300\n",
      "Epoch 15/50\n",
      "2/2 - 0s - 42ms/step - loss: 0.9291 - val_loss: 0.9236\n",
      "Epoch 16/50\n",
      "2/2 - 0s - 43ms/step - loss: 0.9227 - val_loss: 0.9169\n",
      "Epoch 17/50\n",
      "2/2 - 0s - 45ms/step - loss: 0.9158 - val_loss: 0.9098\n",
      "Epoch 18/50\n",
      "2/2 - 0s - 51ms/step - loss: 0.9086 - val_loss: 0.9022\n",
      "Epoch 19/50\n",
      "2/2 - 0s - 40ms/step - loss: 0.9010 - val_loss: 0.8942\n",
      "Epoch 20/50\n",
      "2/2 - 0s - 36ms/step - loss: 0.8928 - val_loss: 0.8856\n",
      "Epoch 21/50\n",
      "2/2 - 0s - 38ms/step - loss: 0.8841 - val_loss: 0.8765\n",
      "Epoch 22/50\n",
      "2/2 - 0s - 46ms/step - loss: 0.8749 - val_loss: 0.8667\n",
      "Epoch 23/50\n",
      "2/2 - 0s - 39ms/step - loss: 0.8650 - val_loss: 0.8563\n",
      "Epoch 24/50\n",
      "2/2 - 0s - 35ms/step - loss: 0.8544 - val_loss: 0.8450\n",
      "Epoch 25/50\n",
      "2/2 - 0s - 42ms/step - loss: 0.8430 - val_loss: 0.8330\n",
      "Epoch 26/50\n",
      "2/2 - 0s - 40ms/step - loss: 0.8307 - val_loss: 0.8199\n",
      "Epoch 27/50\n",
      "2/2 - 0s - 42ms/step - loss: 0.8174 - val_loss: 0.8059\n",
      "Epoch 28/50\n",
      "2/2 - 0s - 46ms/step - loss: 0.8032 - val_loss: 0.7907\n",
      "Epoch 29/50\n",
      "2/2 - 0s - 39ms/step - loss: 0.7877 - val_loss: 0.7742\n",
      "Epoch 30/50\n",
      "2/2 - 0s - 75ms/step - loss: 0.7710 - val_loss: 0.7564\n",
      "Epoch 31/50\n",
      "2/2 - 0s - 32ms/step - loss: 0.7528 - val_loss: 0.7370\n",
      "Epoch 32/50\n",
      "2/2 - 0s - 38ms/step - loss: 0.7331 - val_loss: 0.7160\n",
      "Epoch 33/50\n",
      "2/2 - 0s - 36ms/step - loss: 0.7116 - val_loss: 0.6930\n",
      "Epoch 34/50\n",
      "2/2 - 0s - 41ms/step - loss: 0.6883 - val_loss: 0.6680\n",
      "Epoch 35/50\n",
      "2/2 - 0s - 42ms/step - loss: 0.6628 - val_loss: 0.6408\n",
      "Epoch 36/50\n",
      "2/2 - 0s - 41ms/step - loss: 0.6350 - val_loss: 0.6110\n",
      "Epoch 37/50\n",
      "2/2 - 0s - 50ms/step - loss: 0.6047 - val_loss: 0.5785\n",
      "Epoch 38/50\n",
      "2/2 - 0s - 59ms/step - loss: 0.5715 - val_loss: 0.5429\n",
      "Epoch 39/50\n",
      "2/2 - 0s - 52ms/step - loss: 0.5352 - val_loss: 0.5040\n",
      "Epoch 40/50\n",
      "2/2 - 0s - 48ms/step - loss: 0.4955 - val_loss: 0.4613\n",
      "Epoch 41/50\n",
      "2/2 - 0s - 37ms/step - loss: 0.4519 - val_loss: 0.4145\n",
      "Epoch 42/50\n",
      "2/2 - 0s - 36ms/step - loss: 0.4042 - val_loss: 0.3632\n",
      "Epoch 43/50\n",
      "2/2 - 0s - 47ms/step - loss: 0.3518 - val_loss: 0.3069\n",
      "Epoch 44/50\n",
      "2/2 - 0s - 49ms/step - loss: 0.2943 - val_loss: 0.2451\n",
      "Epoch 45/50\n",
      "2/2 - 0s - 49ms/step - loss: 0.2312 - val_loss: 0.1772\n",
      "Epoch 46/50\n",
      "2/2 - 0s - 42ms/step - loss: 0.1619 - val_loss: 0.1026\n",
      "Epoch 47/50\n",
      "2/2 - 0s - 43ms/step - loss: 0.0857 - val_loss: 0.0228\n",
      "Epoch 48/50\n",
      "2/2 - 0s - 70ms/step - loss: 0.0218 - val_loss: 0.0564\n",
      "Epoch 49/50\n",
      "2/2 - 0s - 76ms/step - loss: 0.0665 - val_loss: 0.0934\n",
      "Epoch 50/50\n",
      "2/2 - 0s - 70ms/step - loss: 0.0965 - val_loss: 0.0982\n"
     ]
    },
    {
     "data": {
      "image/png": "[encoded data removed]",
      "text/plain": [
       "<Figure size 640x480 with 1 Axes>"
      ]
     },
     "metadata": {},
     "output_type": "display_data"
    }
   ],
   "source": [
    "# design network\n",
    "model = Sequential()\n",
    "#model.add(LSTM(50, input_shape=(train_X.shape[1], train_X.shape[2])))\n",
    "\n",
    "#model.add(LSTM(50))\n",
    "\n",
    "model.add(LSTM(50, activation='relu', return_sequences=True, input_shape=(train_X.shape[1], train_X.shape[2])))\n",
    "model.add(LSTM(50, activation='relu'))\n",
    "\n",
    "model.add(Dense(1))\n",
    "model.compile(loss='mae', optimizer='adam')\n",
    "# fit network\n",
    "history = model.fit(train_X, train_y, epochs=50, batch_size=72, validation_data=(test_X, test_y), verbose=2, shuffle=False)\n",
    "# plot history\n",
    "pyplot.plot(history.history['loss'], label='train')\n",
    "pyplot.plot(history.history['val_loss'], label='test')\n",
    "pyplot.legend()\n",
    "pyplot.show()"
   ]
  },
  {
   "cell_type": "code",
   "execution_count": 12,
   "metadata": {},
   "outputs": [
    {
     "name": "stdout",
     "output_type": "stream",
     "text": [
      "\u001b[1m1/1\u001b[0m \u001b[32m━━━━━━━━━━━━━━━━━━━━\u001b[0m\u001b[37m\u001b[0m \u001b[1m0s\u001b[0m 421ms/step\n",
      "Test RMSE: 0.100\n"
     ]
    }
   ],
   "source": [
    "# make a prediction\n",
    "yhat = model.predict(test_X)\n",
    "test_X = test_X.reshape((test_X.shape[0], test_X.shape[2]))\n",
    "\n",
    "# invert scaling for forecast\n",
    "inv_yhat = concatenate((yhat, test_X[:, 0:9]), axis=1)\n",
    "#inv_yhat = scaler.inverse_transform(inv_yhat)\n",
    "inv_yhat = inv_yhat[:,0]\n",
    "\n",
    "# invert scaling for actual\n",
    "test_y = test_y.reshape((len(test_y), 1))\n",
    "inv_y = concatenate((test_y, test_X[:, 0:9]), axis=1)\n",
    "#inv_y = scaler.inverse_transform(inv_y)\n",
    "inv_y = inv_y[:,0]\n",
    "\n",
    "# calculate RMSE\n",
    "rmse = sqrt(mean_squared_error(inv_y, inv_yhat))\n",
    "print('Test RMSE: %.3f' % rmse)"
   ]
  },
  {
   "cell_type": "code",
   "execution_count": 13,
   "metadata": {},
   "outputs": [
    {
     "data": {
      "image/png": "[encoded data removed]",
      "text/plain": [
       "<Figure size 640x480 with 1 Axes>"
      ]
     },
     "metadata": {},
     "output_type": "display_data"
    }
   ],
   "source": [
    "import matplotlib.pyplot as plt\n",
    "\n",
    "# Create a line plot\n",
    "plt.plot(inv_y, label='Actual')\n",
    "plt.plot(inv_yhat, label='Predicted')\n",
    "\n",
    "# Add labels and title\n",
    "plt.xlabel('Time')\n",
    "plt.ylabel('Target Variable')\n",
    "plt.title('Actual vs. Predicted Values')\n",
    "\n",
    "# Add legend\n",
    "plt.legend()\n",
    "\n",
    "# Show the plot\n",
    "plt.show()"
   ]
  },
  {
   "cell_type": "markdown",
   "metadata": {},
   "source": [
    "# References:\n",
    "Understanding LSTM Networks - https://colah.github.io/posts/2015-08-Understanding-LSTMs/\n",
    "\n",
    "How to Develop LSTM Models for Time Series Forecasting:\n",
    "https://machinelearningmastery.com/how-to-develop-lstm-models-for-time-series-forecasting/\n",
    "\n",
    "Multivariate Time Series Forecasting with LSTMs in Keras - https://machinelearningmastery.com/multivariate-time-series-forecasting-lstms-keras/\n",
    "\n",
    "Hyper Parameter Tunning:\n",
    "https://machinelearningmastery.com/tune-lstm-hyperparameters-keras-time-series-forecasting/\n",
    "\n",
    "More on data prep for LSTMs here:\n",
    "https://machinelearningmastery.com/faq/single-faq/how-do-i-prepare-my-data-for-an-lstm\n",
    "\n",
    "You can use diagnostics to see if the model is well suited:\n",
    "https://machinelearningmastery.com/diagnose-overfitting-underfitting-lstm-models/\n",
    "\n",
    "You can use grid/random searches of hyperparameters to see if you can do better.\n",
    "\n",
    "Error is relative, and “good” performance is determined against a baseline method like persistence, more here:\n",
    "https://machinelearningmastery.com/how-to-know-if-your-machine-learning-model-has-good-performance/\n",
    "\n",
    "More on how to change a neural net to/form regression to classification:\n",
    "https://machinelearningmastery.com/faq/single-faq/how-can-i-change-a-neural-network-from-regression-to-classification\n",
    "\n",
    "optimal lag selection multivariate time series LSTM:\n",
    "https://www.google.com/search?q=optimal+lag+selection+multivariate+time+series+LSTM&rlz=1C1GCEA_enES852ES852&oq=optimal+lag+selection+multivariate+time+series+LSTM&aqs=chrome..69i57.26984j0j7&sourceid=chrome&ie=UTF-8"
   ]
  },
  {
   "cell_type": "code",
   "execution_count": null,
   "metadata": {},
   "outputs": [],
   "source": []
  }
 ],
 "metadata": {
  "kernelspec": {
   "display_name": "Python 3 (ipykernel)",
   "language": "python",
   "name": "python3"
  },
  "language_info": {
   "codemirror_mode": {
    "name": "ipython",
    "version": 3
   },
   "file_extension": ".py",
   "mimetype": "text/x-python",
   "name": "python",
   "nbconvert_exporter": "python",
   "pygments_lexer": "ipython3",
   "version": "3.11.7"
  }
 },
 "nbformat": 4,
 "nbformat_minor": 4
}
